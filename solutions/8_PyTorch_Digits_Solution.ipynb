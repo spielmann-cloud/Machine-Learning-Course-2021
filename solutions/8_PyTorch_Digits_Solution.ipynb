{
 "cells": [
  {
   "cell_type": "markdown",
   "metadata": {
    "colab_type": "text",
    "id": "view-in-github"
   },
   "source": [
    "<a href=\"https://colab.research.google.com/github/pabair/ml-kurs-ss21/blob/master/8_PyTorch_Digits.ipynb\" target=\"_parent\"><img src=\"https://colab.research.google.com/assets/colab-badge.svg\" alt=\"Open In Colab\"/></a>"
   ]
  },
  {
   "cell_type": "markdown",
   "metadata": {
    "id": "TOBUyiZq3d2u"
   },
   "source": [
    "# PyTorch Digits Example\n",
    "This example classifies the digit dataset using a neural net.\n"
   ]
  },
  {
   "cell_type": "markdown",
   "metadata": {},
   "source": [
    "First we need to install with `conda install pytorch` or `pip3 install torch` depending on your setup."
   ]
  },
  {
   "cell_type": "markdown",
   "metadata": {
    "id": "LhdvnPe4Q-pO"
   },
   "source": [
    "### 0. Preamble"
   ]
  },
  {
   "cell_type": "code",
   "execution_count": 1,
   "metadata": {
    "id": "K8-YOrlu3w8z"
   },
   "outputs": [],
   "source": [
    "import numpy as np\n",
    "import torch\n",
    "import torch.nn.functional as F\n",
    "import torch.nn as nn\n",
    "import matplotlib.pyplot as plt\n",
    "\n",
    "torch.manual_seed(1)\n",
    "np.random.seed(1)"
   ]
  },
  {
   "cell_type": "markdown",
   "metadata": {},
   "source": [
    "The following lines checks for GPU availability on the machine and sets the GPU as processing device (if available). If you are on Google Colab you can enable GPU support in the menu via `Runtime > Change runtime type` and select `GPU` as hardware accelerator."
   ]
  },
  {
   "cell_type": "code",
   "execution_count": 2,
   "metadata": {
    "colab": {
     "base_uri": "https://localhost:8080/"
    },
    "id": "S3DgoJj735Gr",
    "outputId": "e56e337f-c44f-4bc3-c1ae-e532bb999356"
   },
   "outputs": [
    {
     "name": "stdout",
     "output_type": "stream",
     "text": [
      "No GPU available\n"
     ]
    },
    {
     "data": {
      "text/plain": [
       "device(type='cpu')"
      ]
     },
     "execution_count": 2,
     "metadata": {},
     "output_type": "execute_result"
    }
   ],
   "source": [
    "if(torch.cuda.is_available()):\n",
    "  processing_chip = \"cuda:0\"\n",
    "  print(f\"{torch.cuda.get_device_name(0)} available\")\n",
    "else:\n",
    "  processing_chip = \"cpu\"\n",
    "  print(\"No GPU available\")\n",
    "\n",
    "device = torch.device(processing_chip)\n",
    "device"
   ]
  },
  {
   "cell_type": "markdown",
   "metadata": {
    "id": "Y8EgmXccAr9b"
   },
   "source": [
    "### 1. Data Preperation"
   ]
  },
  {
   "cell_type": "markdown",
   "metadata": {},
   "source": [
    "We work with the already know digit dataset. For more details on the dataset, check our [previous](https://github.com/pabair/ml-kurs-ss21/blob/master/2_Logistische_Regression_Digits.ipynb) notebook.\n"
   ]
  },
  {
   "cell_type": "code",
   "execution_count": 3,
   "metadata": {
    "id": "DZoYUZfQ_TU8"
   },
   "outputs": [],
   "source": [
    "from sklearn.datasets import load_digits\n",
    "data, labels = load_digits(return_X_y = True)"
   ]
  },
  {
   "cell_type": "code",
   "execution_count": 4,
   "metadata": {
    "id": "KfY2iF0WTlWu"
   },
   "outputs": [],
   "source": [
    "from sklearn.model_selection import train_test_split\n",
    "train_X, test_X, train_y, test_y = train_test_split(data, labels, test_size=0.2, random_state=0)"
   ]
  },
  {
   "cell_type": "code",
   "execution_count": 5,
   "metadata": {
    "colab": {
     "base_uri": "https://localhost:8080/"
    },
    "id": "fQqdZZ16AHBe",
    "outputId": "75f7aff9-a647-4010-bafa-8141fc7aa46d"
   },
   "outputs": [
    {
     "data": {
      "text/plain": [
       "array([[ 0.,  0.,  0., ..., 16., 16.,  6.],\n",
       "       [ 0.,  3., 12., ..., 16.,  2.,  0.],\n",
       "       [ 0.,  1., 10., ...,  0.,  0.,  0.],\n",
       "       ...,\n",
       "       [ 0.,  0.,  5., ...,  0.,  0.,  0.],\n",
       "       [ 0.,  0.,  4., ...,  0.,  0.,  0.],\n",
       "       [ 0.,  0.,  6., ..., 11.,  0.,  0.]])"
      ]
     },
     "execution_count": 5,
     "metadata": {},
     "output_type": "execute_result"
    }
   ],
   "source": [
    "train_X"
   ]
  },
  {
   "cell_type": "markdown",
   "metadata": {},
   "source": [
    "To be able to use the data in PyTorch, we need to convert them into PyTorch tensors. Such a tensor can be thought of an efficient way to represent lists and matrices (similar to Numpy), with the additional benefit that they can be moved to the GPU (the .to(device) part in the code below) and that they support automatic backpropagation (more on this later):"
   ]
  },
  {
   "cell_type": "code",
   "execution_count": 6,
   "metadata": {},
   "outputs": [],
   "source": [
    "train_x = torch.Tensor(train_X).float().to(device)\n",
    "test_x = torch.Tensor(test_X).float().to(device)\n",
    "train_y =torch.Tensor(train_y).long().to(device)\n",
    "test_y = torch.Tensor(test_y).long().to(device)"
   ]
  },
  {
   "cell_type": "markdown",
   "metadata": {
    "id": "5wcTXnyu7NWK"
   },
   "source": [
    "### 2. Model definition \n"
   ]
  },
  {
   "cell_type": "markdown",
   "metadata": {},
   "source": [
    "We define now the strucutre of our neural network. For this we create a class that is a subclass from PyTorch's nn.Module. By convention we put in the `__init__` method the layers we want to use in the network and in the `forward` method how data flows through this network.\n",
    "\n",
    "Our network has 64 input features, one hidden layer with 5 neurons and 10 output neurons. The hidden layer uses a Relu activation function. Note that the output layer does not have a softmax activation (unlike we have seen it in the lecture). It rather gives out a raw score for each class (more on this later)."
   ]
  },
  {
   "cell_type": "code",
   "execution_count": 7,
   "metadata": {
    "id": "_W47oZ534E-1"
   },
   "outputs": [],
   "source": [
    "class Net(nn.Module):\n",
    "  def __init__(self):\n",
    "    super(Net, self).__init__()\n",
    "    self.hidden1 = nn.Linear(64, 10) # Task 1\n",
    "    self.hidden2 = nn.Linear(10, 5)  # Task 1\n",
    "    self.output = nn.Linear(5, 10)\n",
    "\n",
    "  def forward(self, x):\n",
    "    z = F.relu(self.hidden1(x))\n",
    "    z = F.relu(self.hidden2(z)) # Task 1\n",
    "    z = self.output(z)  # no softmax. see CrossEntropyLoss() \n",
    "    return z"
   ]
  },
  {
   "cell_type": "markdown",
   "metadata": {
    "id": "gJyy5JG_84vs"
   },
   "source": [
    "### 3. Model Training"
   ]
  },
  {
   "cell_type": "markdown",
   "metadata": {},
   "source": [
    "We can now start training our network. We run several epochs in which we first predict on the training data with our network and than backpropagate the loss. For this we use PyTorch's build-in optimizer that runs gradient descent on the weights of the network. Hence, in every episode we reduce the loss on the training data and improve our network.\n",
    "\n",
    "As loss function we use cross entropy, which consumes the raw scores from the prediction and internally applies a softmax (that is why we do not need the softmax as last layer in the network).\n",
    "\n",
    "Note that all training data is passed at once to our network (line `net(train_x)` ), since PyTorch will predict on all data points in parallel."
   ]
  },
  {
   "cell_type": "code",
   "execution_count": 8,
   "metadata": {},
   "outputs": [
    {
     "data": {
      "text/plain": [
       "Net(\n",
       "  (hidden1): Linear(in_features=64, out_features=10, bias=True)\n",
       "  (hidden2): Linear(in_features=10, out_features=5, bias=True)\n",
       "  (output): Linear(in_features=5, out_features=10, bias=True)\n",
       ")"
      ]
     },
     "execution_count": 8,
     "metadata": {},
     "output_type": "execute_result"
    }
   ],
   "source": [
    "# create network, move it to device and set it to training-mode\n",
    "net = Net().to(device)\n",
    "net.train()"
   ]
  },
  {
   "cell_type": "code",
   "execution_count": 34,
   "metadata": {
    "colab": {
     "base_uri": "https://localhost:8080/"
    },
    "id": "7RQHZvvyAFzV",
    "outputId": "85c7caef-49ee-443f-d052-30af1758c4a2"
   },
   "outputs": [
    {
     "name": "stdout",
     "output_type": "stream",
     "text": [
      "\n",
      "Starting training \n",
      "Loss in epoch 0 is 2.583258628845215\n",
      "Loss in epoch 100 is 1.7634174823760986\n",
      "Loss in epoch 200 is 1.137093424797058\n",
      "Loss in epoch 300 is 0.7933513522148132\n",
      "Loss in epoch 400 is 0.5790695548057556\n",
      "Loss in epoch 500 is 0.4525112807750702\n",
      "Loss in epoch 600 is 0.3747641444206238\n",
      "Loss in epoch 700 is 0.32335925102233887\n",
      "Loss in epoch 800 is 0.28807204961776733\n",
      "Loss in epoch 900 is 0.261739045381546\n",
      "Loss in epoch 1000 is 0.24039539694786072\n",
      "Loss in epoch 1100 is 0.22195447981357574\n",
      "Loss in epoch 1200 is 0.2069118618965149\n",
      "Loss in epoch 1300 is 0.1943603754043579\n",
      "Loss in epoch 1400 is 0.18296068906784058\n",
      "Loss in epoch 1500 is 0.17170816659927368\n",
      "Loss in epoch 1600 is 0.16194306313991547\n",
      "Loss in epoch 1700 is 0.1535668522119522\n",
      "Loss in epoch 1800 is 0.14606551826000214\n",
      "Loss in epoch 1900 is 0.13929548859596252\n",
      "Loss in epoch 2000 is 0.13302263617515564\n",
      "Loss in epoch 2100 is 0.1272197961807251\n",
      "Loss in epoch 2200 is 0.1218937486410141\n",
      "Loss in epoch 2300 is 0.11682581156492233\n",
      "Loss in epoch 2400 is 0.1116505041718483\n",
      "Loss in epoch 2500 is 0.10681699961423874\n",
      "Loss in epoch 2600 is 0.10230426490306854\n",
      "Loss in epoch 2700 is 0.09799371659755707\n",
      "Loss in epoch 2800 is 0.09393882751464844\n",
      "Loss in epoch 2900 is 0.09009833633899689\n",
      "Loss in epoch 3000 is 0.08636771887540817\n",
      "Loss in epoch 3100 is 0.08284161984920502\n",
      "Loss in epoch 3200 is 0.07888869941234589\n",
      "Loss in epoch 3300 is 0.07297859340906143\n",
      "Loss in epoch 3400 is 0.0679413378238678\n",
      "Loss in epoch 3500 is 0.06412922590970993\n",
      "Loss in epoch 3600 is 0.0607403926551342\n",
      "Loss in epoch 3700 is 0.05769531801342964\n",
      "Loss in epoch 3800 is 0.05486583709716797\n",
      "Loss in epoch 3900 is 0.052289459854364395\n",
      "Loss in epoch 4000 is 0.04991454631090164\n",
      "Loss in epoch 4100 is 0.047705791890621185\n",
      "Loss in epoch 4200 is 0.04566996917128563\n",
      "Loss in epoch 4300 is 0.04378668963909149\n",
      "Loss in epoch 4400 is 0.04202476143836975\n",
      "Loss in epoch 4500 is 0.04037632793188095\n",
      "Loss in epoch 4600 is 0.038821667432785034\n",
      "Loss in epoch 4700 is 0.03736299276351929\n",
      "Loss in epoch 4800 is 0.03597622737288475\n",
      "Loss in epoch 4900 is 0.03467394784092903\n",
      "Loss in epoch 5000 is 0.033444326370954514\n",
      "Loss in epoch 5100 is 0.032268110662698746\n",
      "Loss in epoch 5200 is 0.031154468655586243\n",
      "Loss in epoch 5300 is 0.030092230066657066\n",
      "Loss in epoch 5400 is 0.02908068709075451\n",
      "Loss in epoch 5500 is 0.028114095330238342\n",
      "Loss in epoch 5600 is 0.02718549408018589\n",
      "Loss in epoch 5700 is 0.026299791410565376\n",
      "Loss in epoch 5800 is 0.025447171181440353\n",
      "Loss in epoch 5900 is 0.024603504687547684\n",
      "Loss in epoch 6000 is 0.023806022480130196\n",
      "Loss in epoch 6100 is 0.023041674867272377\n",
      "Loss in epoch 6200 is 0.022315286099910736\n",
      "Loss in epoch 6300 is 0.021620845422148705\n",
      "Loss in epoch 6400 is 0.020957764238119125\n",
      "Loss in epoch 6500 is 0.020326467230916023\n",
      "Loss in epoch 6600 is 0.01972021348774433\n",
      "Loss in epoch 6700 is 0.019144855439662933\n",
      "Loss in epoch 6800 is 0.018592694774270058\n",
      "Loss in epoch 6900 is 0.01806681416928768\n",
      "Loss in epoch 7000 is 0.017561720684170723\n",
      "Loss in epoch 7100 is 0.017078189179301262\n",
      "Loss in epoch 7200 is 0.016612255945801735\n",
      "Loss in epoch 7300 is 0.016166340559720993\n",
      "Loss in epoch 7400 is 0.015739381313323975\n",
      "Loss in epoch 7500 is 0.015327704139053822\n",
      "Loss in epoch 7600 is 0.014933684840798378\n",
      "Loss in epoch 7700 is 0.01455061323940754\n",
      "Loss in epoch 7800 is 0.014182964339852333\n",
      "Loss in epoch 7900 is 0.013828258030116558\n",
      "Loss in epoch 8000 is 0.013488036580383778\n",
      "Loss in epoch 8100 is 0.013160823844373226\n",
      "Loss in epoch 8200 is 0.012843959964811802\n",
      "Loss in epoch 8300 is 0.012539615854620934\n",
      "Loss in epoch 8400 is 0.012245587073266506\n",
      "Loss in epoch 8500 is 0.01196206919848919\n",
      "Loss in epoch 8600 is 0.011689056642353535\n",
      "Loss in epoch 8700 is 0.011424868367612362\n",
      "Loss in epoch 8800 is 0.011170079000294209\n",
      "Loss in epoch 8900 is 0.010923261754214764\n",
      "Loss in epoch 9000 is 0.010684498585760593\n",
      "Loss in epoch 9100 is 0.010453719645738602\n",
      "Loss in epoch 9200 is 0.010230322368443012\n",
      "Loss in epoch 9300 is 0.010013061575591564\n",
      "Loss in epoch 9400 is 0.009802952408790588\n",
      "Loss in epoch 9500 is 0.009599467739462852\n",
      "Loss in epoch 9600 is 0.009401614777743816\n",
      "Loss in epoch 9700 is 0.009208358824253082\n",
      "Loss in epoch 9800 is 0.009022275917232037\n",
      "Loss in epoch 9900 is 0.00884201843291521\n",
      "Done training \n"
     ]
    }
   ],
   "source": [
    "# create network, move it to device and set it to training-mode\n",
    "net = Net().to(device)\n",
    "net.train()\n",
    "\n",
    "# define the parameters for training\n",
    "no_epochs = 10000\n",
    "learning_rate = 0.01\n",
    "loss_func = nn.CrossEntropyLoss()  # applies softmax() internally\n",
    "optimizer = torch.optim.SGD(net.parameters(), lr=learning_rate)\n",
    "\n",
    "print(\"\\nStarting training \")\n",
    "\n",
    "train_losses = []\n",
    "test_losses = []\n",
    "for epoch in range(0, no_epochs):\n",
    "\n",
    "  optimizer.zero_grad()\n",
    "  output = net(train_x)\n",
    "\n",
    "  loss = loss_func(output, train_y)\n",
    "  loss.backward()\n",
    "  optimizer.step()\n",
    "\n",
    "  y_hat_test = net(test_x)\n",
    "  loss_test = loss_func(y_hat_test, test_y)\n",
    "\n",
    "  train_losses.append(loss.item())\n",
    "  test_losses.append(loss_test.item())\n",
    "  \n",
    "  if epoch % 100 == 0:\n",
    "    print(f\"Loss in epoch {epoch} is {loss.item()}\")\n",
    "\n",
    "print(\"Done training \")"
   ]
  },
  {
   "cell_type": "code",
   "execution_count": 35,
   "metadata": {
    "colab": {
     "base_uri": "https://localhost:8080/",
     "height": 296
    },
    "id": "fMPxG1i873W7",
    "outputId": "8ed83937-f40a-4e0e-a259-e409fff8fc9e"
   },
   "outputs": [
    {
     "data": {
      "text/plain": [
       "Text(0, 0.5, 'loss')"
      ]
     },
     "execution_count": 35,
     "metadata": {},
     "output_type": "execute_result"
    },
    {
     "data": {
      "image/png": "[encoded data removed]",
      "text/plain": [
       "<Figure size 432x288 with 1 Axes>"
      ]
     },
     "metadata": {
      "needs_background": "light"
     },
     "output_type": "display_data"
    }
   ],
   "source": [
    "fig = plt.figure()\n",
    "plt.plot(range(0, no_epochs), train_losses, color='blue')\n",
    "plt.plot(range(0, no_epochs), test_losses, color='red')\n",
    "plt.legend(['Train Loss', \"Test Loss\"], loc='upper right')\n",
    "plt.xlabel('number of epochs')\n",
    "plt.ylabel('loss')"
   ]
  },
  {
   "cell_type": "markdown",
   "metadata": {
    "id": "cN8btFSP3yU2"
   },
   "source": [
    "### 4. Model Evaluation"
   ]
  },
  {
   "cell_type": "markdown",
   "metadata": {},
   "source": [
    "Finally, we check the model accuracy on the test data. For this we predict on the test data, identify the class with the highest score and compare it to the true label."
   ]
  },
  {
   "cell_type": "code",
   "execution_count": 36,
   "metadata": {
    "colab": {
     "base_uri": "https://localhost:8080/"
    },
    "id": "wsmVfo49Kytp",
    "outputId": "73bdda50-20d6-41e3-bb45-ce40c114f6fc"
   },
   "outputs": [
    {
     "name": "stdout",
     "output_type": "stream",
     "text": [
      "Accuarcy is 95.83333333333333%\n"
     ]
    }
   ],
   "source": [
    "net.eval() # set network to evaluation mode\n",
    "y_pred = net(test_x)\n",
    "_, predicted = torch.max(y_pred.data, 1)\n",
    "correct = (predicted == test_y).sum().item()\n",
    "print(f\"Accuarcy is {100. * correct / len(test_x)}%\")"
   ]
  },
  {
   "cell_type": "markdown",
   "metadata": {},
   "source": [
    "### 5. Tasks"
   ]
  },
  {
   "cell_type": "markdown",
   "metadata": {},
   "source": [
    "1. Our accuracy is not so good on the test data. Try the following to improve the model:\n",
    "    - Increase the hidden layer size to 10 neurons, train the model and compare the accuracy on the test data.\n",
    "    - Add a second hidden layer with 5 neurons, train the model and compare the accuracy on the test data.\n",
    "2. Check if you can decrease the training loss even further if you train for more epochs. However, this can easily result in overfitting. To check that, calculate the accuracy on the test data already during training after each epoch. Show the plot the results as a second plot similiar to the one above. (Note: Normally we need to do this check on seperate validation data, not on our test data).\n",
    "3. Take the titanic data set and try to train a neural network on it."
   ]
  },
  {
   "cell_type": "markdown",
   "metadata": {},
   "source": [
    "Solutions:\n",
    "1. Accuracy can be improved to 81%\n",
    "2. We can see that test loss does not get better after 2000 epochs"
   ]
  },
  {
   "cell_type": "markdown",
   "metadata": {},
   "source": [
    "3. Titanic data"
   ]
  },
  {
   "cell_type": "code",
   "execution_count": 25,
   "metadata": {},
   "outputs": [],
   "source": [
    "import pandas as pd\n",
    "df = pd.read_csv(\"../data/titanic.csv\")\n",
    "df_selection = df[[\"Survived\", \"Pclass\", \"Age\", \"SibSp\", \"Parch\", \"Fare\"]]\n",
    "df_selection = df_selection.dropna()"
   ]
  },
  {
   "cell_type": "code",
   "execution_count": 61,
   "metadata": {},
   "outputs": [],
   "source": [
    "df_X = df_selection.drop(columns = [\"Survived\"]).values\n",
    "df_y = df_selection[\"Survived\"].values\n",
    "train_x, test_x, train_y, test_y = train_test_split(df_X, df_y, test_size=0.2, random_state=0)"
   ]
  },
  {
   "cell_type": "markdown",
   "metadata": {},
   "source": [
    "What is important above is that we transform the Pandas objects into numpy nd-arrays by applying the `.values`, because PyTorch does not really like to create tensors out of Pandas DataFrames or Series."
   ]
  },
  {
   "cell_type": "code",
   "execution_count": 65,
   "metadata": {},
   "outputs": [],
   "source": [
    "train_x = torch.Tensor(train_x).float().to(device)\n",
    "test_x = torch.Tensor(test_x).float().to(device)\n",
    "train_y = torch.Tensor(train_y).long().to(device)\n",
    "test_y = torch.Tensor(test_y).long().to(device)"
   ]
  },
  {
   "cell_type": "code",
   "execution_count": 66,
   "metadata": {},
   "outputs": [],
   "source": [
    "class TitanicNet(nn.Module):\n",
    "  def __init__(self):\n",
    "    super(TitanicNet, self).__init__()\n",
    "    self.hidden = nn.Linear(5, 10)\n",
    "    self.output = nn.Linear(10, 2)\n",
    "\n",
    "  def forward(self, x):\n",
    "    z = F.relu(self.hidden(x))\n",
    "    z = self.output(z)  # no softmax. see CrossEntropyLoss() \n",
    "    return z"
   ]
  },
  {
   "cell_type": "code",
   "execution_count": 67,
   "metadata": {},
   "outputs": [
    {
     "name": "stdout",
     "output_type": "stream",
     "text": [
      "\n",
      "Starting training \n",
      "Loss in epoch 0 is 1.8526724576950073\n",
      "Loss in epoch 100 is 0.6327638626098633\n",
      "Loss in epoch 200 is 0.6152629852294922\n",
      "Loss in epoch 300 is 0.6076704263687134\n",
      "Loss in epoch 400 is 0.603749692440033\n",
      "Loss in epoch 500 is 0.6010717749595642\n",
      "Loss in epoch 600 is 0.5991060733795166\n",
      "Loss in epoch 700 is 0.5978813767433167\n",
      "Loss in epoch 800 is 0.5974206924438477\n",
      "Loss in epoch 900 is 0.5960420966148376\n",
      "Loss in epoch 1000 is 0.5946744084358215\n",
      "Loss in epoch 1100 is 0.5930956602096558\n",
      "Loss in epoch 1200 is 0.5918411016464233\n",
      "Loss in epoch 1300 is 0.5908036828041077\n",
      "Loss in epoch 1400 is 0.5901950001716614\n",
      "Loss in epoch 1500 is 0.5890573859214783\n",
      "Loss in epoch 1600 is 0.5882608890533447\n",
      "Loss in epoch 1700 is 0.5875867009162903\n",
      "Loss in epoch 1800 is 0.5863486528396606\n",
      "Loss in epoch 1900 is 0.5839777588844299\n",
      "Loss in epoch 2000 is 0.5837767124176025\n",
      "Loss in epoch 2100 is 0.5833257436752319\n",
      "Loss in epoch 2200 is 0.5835000872612\n",
      "Loss in epoch 2300 is 0.5820655226707458\n",
      "Loss in epoch 2400 is 0.5821089744567871\n",
      "Loss in epoch 2500 is 0.5818820595741272\n",
      "Loss in epoch 2600 is 0.5813911557197571\n",
      "Loss in epoch 2700 is 0.5808049440383911\n",
      "Loss in epoch 2800 is 0.58030104637146\n",
      "Loss in epoch 2900 is 0.5799251198768616\n",
      "Loss in epoch 3000 is 0.5771843194961548\n",
      "Loss in epoch 3100 is 0.5771329998970032\n",
      "Loss in epoch 3200 is 0.5752263069152832\n",
      "Loss in epoch 3300 is 0.5735378265380859\n",
      "Loss in epoch 3400 is 0.5704389214515686\n",
      "Loss in epoch 3500 is 0.5726354122161865\n",
      "Loss in epoch 3600 is 0.5710225701332092\n",
      "Loss in epoch 3700 is 0.5698891282081604\n",
      "Loss in epoch 3800 is 0.5712217092514038\n",
      "Loss in epoch 3900 is 0.5751650333404541\n",
      "Loss in epoch 4000 is 0.5735498070716858\n",
      "Loss in epoch 4100 is 0.5727804899215698\n",
      "Loss in epoch 4200 is 0.572722315788269\n",
      "Loss in epoch 4300 is 0.573667049407959\n",
      "Loss in epoch 4400 is 0.5711414217948914\n",
      "Loss in epoch 4500 is 0.5693919062614441\n",
      "Loss in epoch 4600 is 0.5703826546669006\n",
      "Loss in epoch 4700 is 0.5704106688499451\n",
      "Loss in epoch 4800 is 0.5735379457473755\n",
      "Loss in epoch 4900 is 0.5708277225494385\n",
      "Loss in epoch 5000 is 0.5700643658638\n",
      "Loss in epoch 5100 is 0.5718314051628113\n",
      "Loss in epoch 5200 is 0.5701887607574463\n",
      "Loss in epoch 5300 is 0.570125162601471\n",
      "Loss in epoch 5400 is 0.5701440572738647\n",
      "Loss in epoch 5500 is 0.5708928108215332\n",
      "Loss in epoch 5600 is 0.5661571025848389\n",
      "Loss in epoch 5700 is 0.5653516054153442\n",
      "Loss in epoch 5800 is 0.5646538138389587\n",
      "Loss in epoch 5900 is 0.5657711625099182\n",
      "Loss in epoch 6000 is 0.5684710741043091\n",
      "Loss in epoch 6100 is 0.5673426985740662\n",
      "Loss in epoch 6200 is 0.5675961375236511\n",
      "Loss in epoch 6300 is 0.5673452019691467\n",
      "Loss in epoch 6400 is 0.5652651786804199\n",
      "Loss in epoch 6500 is 0.5655272006988525\n",
      "Loss in epoch 6600 is 0.5621711015701294\n",
      "Loss in epoch 6700 is 0.5633206367492676\n",
      "Loss in epoch 6800 is 0.5629318952560425\n",
      "Loss in epoch 6900 is 0.5631775856018066\n",
      "Loss in epoch 7000 is 0.563525378704071\n",
      "Loss in epoch 7100 is 0.5621826648712158\n",
      "Loss in epoch 7200 is 0.5644142627716064\n",
      "Loss in epoch 7300 is 0.564169704914093\n",
      "Loss in epoch 7400 is 0.5639839172363281\n",
      "Loss in epoch 7500 is 0.5636533498764038\n",
      "Loss in epoch 7600 is 0.5633493661880493\n",
      "Loss in epoch 7700 is 0.5632587671279907\n",
      "Loss in epoch 7800 is 0.5625870227813721\n",
      "Loss in epoch 7900 is 0.5628138184547424\n",
      "Loss in epoch 8000 is 0.5626329183578491\n",
      "Loss in epoch 8100 is 0.5620538592338562\n",
      "Loss in epoch 8200 is 0.5622716546058655\n",
      "Loss in epoch 8300 is 0.5621118545532227\n",
      "Loss in epoch 8400 is 0.5618618130683899\n",
      "Loss in epoch 8500 is 0.5617790222167969\n",
      "Loss in epoch 8600 is 0.5616899728775024\n",
      "Loss in epoch 8700 is 0.5613371729850769\n",
      "Loss in epoch 8800 is 0.5610717535018921\n",
      "Loss in epoch 8900 is 0.5607254505157471\n",
      "Loss in epoch 9000 is 0.5607091188430786\n",
      "Loss in epoch 9100 is 0.5603871941566467\n",
      "Loss in epoch 9200 is 0.5607916116714478\n",
      "Loss in epoch 9300 is 0.560600757598877\n",
      "Loss in epoch 9400 is 0.5604180097579956\n",
      "Loss in epoch 9500 is 0.5596757531166077\n",
      "Loss in epoch 9600 is 0.559795618057251\n",
      "Loss in epoch 9700 is 0.5599258542060852\n",
      "Loss in epoch 9800 is 0.5597650408744812\n",
      "Loss in epoch 9900 is 0.5600059628486633\n",
      "Done training \n"
     ]
    }
   ],
   "source": [
    "net = TitanicNet().to(device)\n",
    "net.train()\n",
    "\n",
    "# define the parameters for training\n",
    "no_epochs = 10000\n",
    "learning_rate = 0.01\n",
    "loss_func = nn.CrossEntropyLoss()  # applies softmax() internally\n",
    "optimizer = torch.optim.SGD(net.parameters(), lr=learning_rate)\n",
    "\n",
    "print(\"\\nStarting training \")\n",
    "\n",
    "train_losses = []\n",
    "test_losses = []\n",
    "for epoch in range(0, no_epochs):\n",
    "\n",
    "  optimizer.zero_grad()\n",
    "  output = net(train_x)\n",
    "\n",
    "  loss = loss_func(output, train_y)\n",
    "  loss.backward()\n",
    "  optimizer.step()\n",
    "\n",
    "  y_test = net(test_x)\n",
    "  loss_test = loss_func(y_test, test_y)\n",
    "\n",
    "  train_losses.append(loss.item())\n",
    "  test_losses.append(loss_test.item())\n",
    "  \n",
    "  if epoch % 100 == 0:\n",
    "    print(f\"Loss in epoch {epoch} is {loss.item()}\")\n",
    "\n",
    "print(\"Done training \")"
   ]
  },
  {
   "cell_type": "code",
   "execution_count": 68,
   "metadata": {},
   "outputs": [
    {
     "data": {
      "text/plain": [
       "Text(0, 0.5, 'loss')"
      ]
     },
     "execution_count": 68,
     "metadata": {},
     "output_type": "execute_result"
    },
    {
     "data": {
      "image/png": "[encoded data removed]",
      "text/plain": [
       "<Figure size 432x288 with 1 Axes>"
      ]
     },
     "metadata": {
      "needs_background": "light"
     },
     "output_type": "display_data"
    }
   ],
   "source": [
    "fig = plt.figure()\n",
    "plt.plot(range(0, no_epochs), train_losses, color='blue')\n",
    "plt.plot(range(0, no_epochs), test_losses, color='red')\n",
    "plt.legend(['Train Loss', \"Test Loss\"], loc='upper right')\n",
    "plt.xlabel('number of epochs')\n",
    "plt.ylabel('loss')"
   ]
  },
  {
   "cell_type": "code",
   "execution_count": 69,
   "metadata": {},
   "outputs": [
    {
     "name": "stdout",
     "output_type": "stream",
     "text": [
      "Accuarcy is 71.32867132867133%\n"
     ]
    }
   ],
   "source": [
    "y_pred = net(test_x)\n",
    "_, predicted = torch.max(y_pred.data, 1)\n",
    "correct = (predicted == test_y).sum().item()\n",
    "print(f\"Accuarcy is {100. * correct / len(test_x)}%\")"
   ]
  },
  {
   "cell_type": "code",
   "execution_count": null,
   "metadata": {},
   "outputs": [],
   "source": []
  }
 ],
 "metadata": {
  "colab": {
   "authorship_tag": "ABX9TyNB7ogddopYqmFoUzkoa6YX",
   "collapsed_sections": [],
   "include_colab_link": true,
   "name": "4_PyTorch_Example.ipynb",
   "provenance": []
  },
  "kernelspec": {
   "display_name": "Python 3",
   "language": "python",
   "name": "python3"
  },
  "language_info": {
   "codemirror_mode": {
    "name": "ipython",
    "version": 3
   },
   "file_extension": ".py",
   "mimetype": "text/x-python",
   "name": "python",
   "nbconvert_exporter": "python",
   "pygments_lexer": "ipython3",
   "version": "3.8.5"
  }
 },
 "nbformat": 4,
 "nbformat_minor": 1
}

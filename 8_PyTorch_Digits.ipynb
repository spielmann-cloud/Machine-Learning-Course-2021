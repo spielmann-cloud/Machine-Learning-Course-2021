{
 "cells": [
  {
   "cell_type": "markdown",
   "metadata": {
    "colab_type": "text",
    "id": "view-in-github"
   },
   "source": [
    "<a href=\"https://colab.research.google.com/github/pabair/ml-kurs-ss21/blob/master/8_PyTorch_Digits.ipynb\" target=\"_parent\"><img src=\"https://colab.research.google.com/assets/colab-badge.svg\" alt=\"Open In Colab\"/></a>"
   ]
  },
  {
   "cell_type": "markdown",
   "metadata": {
    "id": "TOBUyiZq3d2u"
   },
   "source": [
    "# PyTorch Digits Example\n",
    "This example classifies the digit dataset using a neural net.\n",
    "For more details on the dataset, check [this](https://github.com/pabair/ml-kurs-ss21/blob/master/2_Logistische_Regression_Digits.ipynb) notebook.\n",
    "\n"
   ]
  },
  {
   "cell_type": "markdown",
   "metadata": {},
   "source": [
    "Install with `conda install pytorch` or `pip3 install torch`"
   ]
  },
  {
   "cell_type": "markdown",
   "metadata": {
    "id": "LhdvnPe4Q-pO"
   },
   "source": [
    "### 0. Preamble"
   ]
  },
  {
   "cell_type": "code",
   "execution_count": 1,
   "metadata": {
    "id": "K8-YOrlu3w8z"
   },
   "outputs": [],
   "source": [
    "import numpy as np\n",
    "import torch\n",
    "import torch.nn.functional as F\n",
    "import torch.nn as nn\n",
    "import matplotlib.pyplot as plt\n",
    "\n",
    "torch.manual_seed(1)\n",
    "np.random.seed(1)"
   ]
  },
  {
   "cell_type": "code",
   "execution_count": 2,
   "metadata": {
    "colab": {
     "base_uri": "https://localhost:8080/"
    },
    "id": "S3DgoJj735Gr",
    "outputId": "e56e337f-c44f-4bc3-c1ae-e532bb999356"
   },
   "outputs": [
    {
     "name": "stdout",
     "output_type": "stream",
     "text": [
      "No GPU available\n"
     ]
    },
    {
     "data": {
      "text/plain": [
       "device(type='cpu')"
      ]
     },
     "execution_count": 2,
     "metadata": {},
     "output_type": "execute_result"
    }
   ],
   "source": [
    "if(torch.cuda.is_available()):\n",
    "  processing_chip = \"cuda:0\"\n",
    "  print(f\"{torch.cuda.get_device_name(0)} available\")\n",
    "else:\n",
    "  processing_chip = \"cpu\"\n",
    "  print(\"No GPU available\")\n",
    "\n",
    "device = torch.device(processing_chip)\n",
    "device"
   ]
  },
  {
   "cell_type": "markdown",
   "metadata": {
    "id": "Y8EgmXccAr9b"
   },
   "source": [
    "### 1. Data Preperation"
   ]
  },
  {
   "cell_type": "code",
   "execution_count": 3,
   "metadata": {
    "id": "DZoYUZfQ_TU8"
   },
   "outputs": [],
   "source": [
    "from sklearn.datasets import load_digits\n",
    "data, labels = load_digits(return_X_y = True)"
   ]
  },
  {
   "cell_type": "code",
   "execution_count": 4,
   "metadata": {
    "id": "KfY2iF0WTlWu"
   },
   "outputs": [],
   "source": [
    "from sklearn.model_selection import train_test_split\n",
    "train_X, test_X, train_y, test_y = train_test_split(data, labels, test_size=0.2, random_state=0)"
   ]
  },
  {
   "cell_type": "code",
   "execution_count": 5,
   "metadata": {
    "colab": {
     "base_uri": "https://localhost:8080/"
    },
    "id": "fQqdZZ16AHBe",
    "outputId": "75f7aff9-a647-4010-bafa-8141fc7aa46d"
   },
   "outputs": [
    {
     "data": {
      "text/plain": [
       "array([[ 0.,  0.,  0., ..., 16., 16.,  6.],\n",
       "       [ 0.,  3., 12., ..., 16.,  2.,  0.],\n",
       "       [ 0.,  1., 10., ...,  0.,  0.,  0.],\n",
       "       ...,\n",
       "       [ 0.,  0.,  5., ...,  0.,  0.,  0.],\n",
       "       [ 0.,  0.,  4., ...,  0.,  0.,  0.],\n",
       "       [ 0.,  0.,  6., ..., 11.,  0.,  0.]])"
      ]
     },
     "execution_count": 5,
     "metadata": {},
     "output_type": "execute_result"
    }
   ],
   "source": [
    "train_X"
   ]
  },
  {
   "cell_type": "code",
   "execution_count": 6,
   "metadata": {
    "id": "-OI44o3i-grB"
   },
   "outputs": [],
   "source": [
    "train_x = torch.Tensor(train_X).float().to(device)\n",
    "test_x = torch.Tensor(test_X).float().to(device)\n",
    "train_y =torch.Tensor(train_y).long().to(device)\n",
    "test_y = torch.Tensor(test_y).long().to(device)"
   ]
  },
  {
   "cell_type": "markdown",
   "metadata": {
    "id": "5wcTXnyu7NWK"
   },
   "source": [
    "### 2. Model definition \n"
   ]
  },
  {
   "cell_type": "code",
   "execution_count": 7,
   "metadata": {
    "id": "_W47oZ534E-1"
   },
   "outputs": [],
   "source": [
    "class Net(nn.Module):\n",
    "  def __init__(self):\n",
    "    super(Net, self).__init__()\n",
    "    self.hidden1 = nn.Linear(64, 5)\n",
    "    self.hidden2 = nn.Linear(5, 7)  \n",
    "    self.output = nn.Linear(7, 10)\n",
    "\n",
    "  def forward(self, x):\n",
    "    z = F.relu(self.hidden1(x))\n",
    "    z = F.relu(self.hidden2(z))\n",
    "    z = self.output(z)  # no softmax. see CrossEntropyLoss() \n",
    "    return z"
   ]
  },
  {
   "cell_type": "markdown",
   "metadata": {
    "id": "gJyy5JG_84vs"
   },
   "source": [
    "### 3. Model Training"
   ]
  },
  {
   "cell_type": "code",
   "execution_count": 8,
   "metadata": {
    "colab": {
     "base_uri": "https://localhost:8080/"
    },
    "id": "7RQHZvvyAFzV",
    "outputId": "85c7caef-49ee-443f-d052-30af1758c4a2"
   },
   "outputs": [
    {
     "name": "stdout",
     "output_type": "stream",
     "text": [
      "\n",
      "Starting training \n",
      "Loss in epoch 0 is 2.483743906021118\n",
      "Loss in epoch 10 is 2.2992963790893555\n",
      "Loss in epoch 20 is 2.2463860511779785\n",
      "Loss in epoch 30 is 2.206214666366577\n",
      "Loss in epoch 40 is 2.1667559146881104\n",
      "Loss in epoch 50 is 2.1252381801605225\n",
      "Loss in epoch 60 is 2.081197500228882\n",
      "Loss in epoch 70 is 2.034482002258301\n",
      "Loss in epoch 80 is 1.9860403537750244\n",
      "Loss in epoch 90 is 1.9372819662094116\n",
      "Loss in epoch 100 is 1.8889433145523071\n",
      "Loss in epoch 110 is 1.8417812585830688\n",
      "Loss in epoch 120 is 1.7961574792861938\n",
      "Loss in epoch 130 is 1.7513185739517212\n",
      "Loss in epoch 140 is 1.7079929113388062\n",
      "Loss in epoch 150 is 1.666191577911377\n",
      "Loss in epoch 160 is 1.626001238822937\n",
      "Loss in epoch 170 is 1.5874701738357544\n",
      "Loss in epoch 180 is 1.5508407354354858\n",
      "Loss in epoch 190 is 1.5158514976501465\n",
      "Loss in epoch 200 is 1.482245683670044\n",
      "Loss in epoch 210 is 1.4499735832214355\n",
      "Loss in epoch 220 is 1.4189561605453491\n",
      "Loss in epoch 230 is 1.3894200325012207\n",
      "Loss in epoch 240 is 1.3612139225006104\n",
      "Loss in epoch 250 is 1.333985447883606\n",
      "Loss in epoch 260 is 1.3076794147491455\n",
      "Loss in epoch 270 is 1.2820172309875488\n",
      "Loss in epoch 280 is 1.2571051120758057\n",
      "Loss in epoch 290 is 1.2327851057052612\n",
      "Loss in epoch 300 is 1.2086468935012817\n",
      "Loss in epoch 310 is 1.1847710609436035\n",
      "Loss in epoch 320 is 1.1614954471588135\n",
      "Loss in epoch 330 is 1.1384820938110352\n",
      "Loss in epoch 340 is 1.1158766746520996\n",
      "Loss in epoch 350 is 1.0937647819519043\n",
      "Loss in epoch 360 is 1.072175145149231\n",
      "Loss in epoch 370 is 1.050430178642273\n",
      "Loss in epoch 380 is 1.028232216835022\n",
      "Loss in epoch 390 is 1.0062285661697388\n",
      "Loss in epoch 400 is 0.9844510555267334\n",
      "Loss in epoch 410 is 0.9627922773361206\n",
      "Loss in epoch 420 is 0.9409790635108948\n",
      "Loss in epoch 430 is 0.919352114200592\n",
      "Loss in epoch 440 is 0.8981903195381165\n",
      "Loss in epoch 450 is 0.87735915184021\n",
      "Loss in epoch 460 is 0.8568652272224426\n",
      "Loss in epoch 470 is 0.8367993831634521\n",
      "Loss in epoch 480 is 0.8173694014549255\n",
      "Loss in epoch 490 is 0.7988762259483337\n",
      "Loss in epoch 500 is 0.7812310457229614\n",
      "Loss in epoch 510 is 0.7644414901733398\n",
      "Loss in epoch 520 is 0.748315155506134\n",
      "Loss in epoch 530 is 0.7327643632888794\n",
      "Loss in epoch 540 is 0.7178937196731567\n",
      "Loss in epoch 550 is 0.7037085294723511\n",
      "Loss in epoch 560 is 0.690021276473999\n",
      "Loss in epoch 570 is 0.6771765351295471\n",
      "Loss in epoch 580 is 0.6649315357208252\n",
      "Loss in epoch 590 is 0.6532343626022339\n",
      "Loss in epoch 600 is 0.6420297622680664\n",
      "Loss in epoch 610 is 0.6313794851303101\n",
      "Loss in epoch 620 is 0.6213014721870422\n",
      "Loss in epoch 630 is 0.6117683053016663\n",
      "Loss in epoch 640 is 0.6026220321655273\n",
      "Loss in epoch 650 is 0.593974232673645\n",
      "Loss in epoch 660 is 0.5857992768287659\n",
      "Loss in epoch 670 is 0.578068196773529\n",
      "Loss in epoch 680 is 0.570634126663208\n",
      "Loss in epoch 690 is 0.563565731048584\n",
      "Loss in epoch 700 is 0.5567628741264343\n",
      "Loss in epoch 710 is 0.5502080321311951\n",
      "Loss in epoch 720 is 0.5438691973686218\n",
      "Loss in epoch 730 is 0.5375584363937378\n",
      "Loss in epoch 740 is 0.5314754843711853\n",
      "Loss in epoch 750 is 0.5256689786911011\n",
      "Loss in epoch 760 is 0.5200295448303223\n",
      "Loss in epoch 770 is 0.5145827531814575\n",
      "Loss in epoch 780 is 0.5094472169876099\n",
      "Loss in epoch 790 is 0.5045332908630371\n",
      "Loss in epoch 800 is 0.49971532821655273\n",
      "Loss in epoch 810 is 0.4950549304485321\n",
      "Loss in epoch 820 is 0.49047884345054626\n",
      "Loss in epoch 830 is 0.4860285222530365\n",
      "Loss in epoch 840 is 0.4816712439060211\n",
      "Loss in epoch 850 is 0.47744178771972656\n",
      "Loss in epoch 860 is 0.47338977456092834\n",
      "Loss in epoch 870 is 0.46942126750946045\n",
      "Loss in epoch 880 is 0.465544730424881\n",
      "Loss in epoch 890 is 0.46177950501441956\n",
      "Loss in epoch 900 is 0.4580812156200409\n",
      "Loss in epoch 910 is 0.45452091097831726\n",
      "Loss in epoch 920 is 0.45113444328308105\n",
      "Loss in epoch 930 is 0.4478190541267395\n",
      "Loss in epoch 940 is 0.4445655941963196\n",
      "Loss in epoch 950 is 0.4413968324661255\n",
      "Loss in epoch 960 is 0.43827977776527405\n",
      "Loss in epoch 970 is 0.43518924713134766\n",
      "Loss in epoch 980 is 0.43219447135925293\n",
      "Loss in epoch 990 is 0.42930057644844055\n",
      "Loss in epoch 1000 is 0.42642539739608765\n",
      "Loss in epoch 1010 is 0.42359068989753723\n",
      "Loss in epoch 1020 is 0.4208149313926697\n",
      "Loss in epoch 1030 is 0.41808685660362244\n",
      "Loss in epoch 1040 is 0.415420264005661\n",
      "Loss in epoch 1050 is 0.4128257930278778\n",
      "Loss in epoch 1060 is 0.4102793335914612\n",
      "Loss in epoch 1070 is 0.40776848793029785\n",
      "Loss in epoch 1080 is 0.4052891433238983\n",
      "Loss in epoch 1090 is 0.40286147594451904\n",
      "Loss in epoch 1100 is 0.4004792273044586\n",
      "Loss in epoch 1110 is 0.3981301188468933\n",
      "Loss in epoch 1120 is 0.395818293094635\n",
      "Loss in epoch 1130 is 0.39354461431503296\n",
      "Loss in epoch 1140 is 0.3912968635559082\n",
      "Loss in epoch 1150 is 0.3890807330608368\n",
      "Loss in epoch 1160 is 0.3868962824344635\n",
      "Loss in epoch 1170 is 0.38474634289741516\n",
      "Loss in epoch 1180 is 0.38262638449668884\n",
      "Loss in epoch 1190 is 0.380532830953598\n",
      "Loss in epoch 1200 is 0.37842458486557007\n",
      "Loss in epoch 1210 is 0.3763463497161865\n",
      "Loss in epoch 1220 is 0.37428805232048035\n",
      "Loss in epoch 1230 is 0.3722712993621826\n",
      "Loss in epoch 1240 is 0.37029412388801575\n",
      "Loss in epoch 1250 is 0.3683338165283203\n",
      "Loss in epoch 1260 is 0.3663846552371979\n",
      "Loss in epoch 1270 is 0.3644070625305176\n",
      "Loss in epoch 1280 is 0.3624674379825592\n",
      "Loss in epoch 1290 is 0.3605480492115021\n",
      "Loss in epoch 1300 is 0.3586680293083191\n",
      "Loss in epoch 1310 is 0.356819212436676\n",
      "Loss in epoch 1320 is 0.3549804985523224\n",
      "Loss in epoch 1330 is 0.3531549274921417\n",
      "Loss in epoch 1340 is 0.35134661197662354\n",
      "Loss in epoch 1350 is 0.3495592176914215\n",
      "Loss in epoch 1360 is 0.3477913737297058\n",
      "Loss in epoch 1370 is 0.346042275428772\n",
      "Loss in epoch 1380 is 0.34430819749832153\n",
      "Loss in epoch 1390 is 0.34259000420570374\n",
      "Loss in epoch 1400 is 0.34089502692222595\n",
      "Loss in epoch 1410 is 0.33921387791633606\n",
      "Loss in epoch 1420 is 0.3375457227230072\n",
      "Loss in epoch 1430 is 0.335896372795105\n",
      "Loss in epoch 1440 is 0.33426588773727417\n",
      "Loss in epoch 1450 is 0.3326478898525238\n",
      "Loss in epoch 1460 is 0.33104807138442993\n",
      "Loss in epoch 1470 is 0.3294607996940613\n",
      "Loss in epoch 1480 is 0.32788947224617004\n",
      "Loss in epoch 1490 is 0.32632988691329956\n",
      "Loss in epoch 1500 is 0.32478252053260803\n",
      "Loss in epoch 1510 is 0.3232291340827942\n",
      "Loss in epoch 1520 is 0.32159623503685\n",
      "Loss in epoch 1530 is 0.32000550627708435\n",
      "Loss in epoch 1540 is 0.318254679441452\n",
      "Loss in epoch 1550 is 0.31643375754356384\n",
      "Loss in epoch 1560 is 0.31434690952301025\n",
      "Loss in epoch 1570 is 0.3124730885028839\n",
      "Loss in epoch 1580 is 0.3107229769229889\n",
      "Loss in epoch 1590 is 0.30905985832214355\n",
      "Loss in epoch 1600 is 0.3074356019496918\n",
      "Loss in epoch 1610 is 0.3057974874973297\n",
      "Loss in epoch 1620 is 0.304172545671463\n",
      "Loss in epoch 1630 is 0.302597314119339\n",
      "Loss in epoch 1640 is 0.30105987191200256\n",
      "Loss in epoch 1650 is 0.2995026707649231\n",
      "Loss in epoch 1660 is 0.29790011048316956\n",
      "Loss in epoch 1670 is 0.29629725217819214\n",
      "Loss in epoch 1680 is 0.29469987750053406\n",
      "Loss in epoch 1690 is 0.2931535840034485\n",
      "Loss in epoch 1700 is 0.29164233803749084\n",
      "Loss in epoch 1710 is 0.2901619076728821\n",
      "Loss in epoch 1720 is 0.2887021601200104\n",
      "Loss in epoch 1730 is 0.28726696968078613\n",
      "Loss in epoch 1740 is 0.2858491837978363\n",
      "Loss in epoch 1750 is 0.2844468653202057\n",
      "Loss in epoch 1760 is 0.2830503284931183\n",
      "Loss in epoch 1770 is 0.28167104721069336\n",
      "Loss in epoch 1780 is 0.2802724540233612\n",
      "Loss in epoch 1790 is 0.27887365221977234\n",
      "Loss in epoch 1800 is 0.2774975597858429\n",
      "Loss in epoch 1810 is 0.2761313319206238\n",
      "Loss in epoch 1820 is 0.27478140592575073\n",
      "Loss in epoch 1830 is 0.27344852685928345\n",
      "Loss in epoch 1840 is 0.2721288204193115\n",
      "Loss in epoch 1850 is 0.2707681357860565\n",
      "Loss in epoch 1860 is 0.2693987190723419\n",
      "Loss in epoch 1870 is 0.2680393159389496\n",
      "Loss in epoch 1880 is 0.266689270734787\n",
      "Loss in epoch 1890 is 0.26535651087760925\n",
      "Loss in epoch 1900 is 0.2640303671360016\n",
      "Loss in epoch 1910 is 0.2627115249633789\n",
      "Loss in epoch 1920 is 0.26140645146369934\n",
      "Loss in epoch 1930 is 0.2601151764392853\n",
      "Loss in epoch 1940 is 0.2588179111480713\n",
      "Loss in epoch 1950 is 0.25753340125083923\n",
      "Loss in epoch 1960 is 0.2562618851661682\n",
      "Loss in epoch 1970 is 0.2550027072429657\n",
      "Loss in epoch 1980 is 0.2537536323070526\n",
      "Loss in epoch 1990 is 0.25251007080078125\n",
      "Loss in epoch 2000 is 0.25124937295913696\n",
      "Loss in epoch 2010 is 0.24996300041675568\n",
      "Loss in epoch 2020 is 0.24868804216384888\n",
      "Loss in epoch 2030 is 0.24742387235164642\n",
      "Loss in epoch 2040 is 0.2461487501859665\n",
      "Loss in epoch 2050 is 0.24487429857254028\n",
      "Loss in epoch 2060 is 0.24361172318458557\n",
      "Loss in epoch 2070 is 0.24236246943473816\n",
      "Loss in epoch 2080 is 0.2410767376422882\n",
      "Loss in epoch 2090 is 0.23977363109588623\n",
      "Loss in epoch 2100 is 0.23844128847122192\n",
      "Loss in epoch 2110 is 0.23703797161579132\n",
      "Loss in epoch 2120 is 0.2355189174413681\n"
     ]
    },
    {
     "name": "stdout",
     "output_type": "stream",
     "text": [
      "Loss in epoch 2130 is 0.23387177288532257\n",
      "Loss in epoch 2140 is 0.23233351111412048\n",
      "Loss in epoch 2150 is 0.23084405064582825\n",
      "Loss in epoch 2160 is 0.2294001281261444\n",
      "Loss in epoch 2170 is 0.22798959910869598\n",
      "Loss in epoch 2180 is 0.22660359740257263\n",
      "Loss in epoch 2190 is 0.2252393513917923\n",
      "Loss in epoch 2200 is 0.22388175129890442\n",
      "Loss in epoch 2210 is 0.22253422439098358\n",
      "Loss in epoch 2220 is 0.22119958698749542\n",
      "Loss in epoch 2230 is 0.2198723405599594\n",
      "Loss in epoch 2240 is 0.21854782104492188\n",
      "Loss in epoch 2250 is 0.2172093391418457\n",
      "Loss in epoch 2260 is 0.2158353328704834\n",
      "Loss in epoch 2270 is 0.21447932720184326\n",
      "Loss in epoch 2280 is 0.2131522297859192\n",
      "Loss in epoch 2290 is 0.21184180676937103\n",
      "Loss in epoch 2300 is 0.21053706109523773\n",
      "Loss in epoch 2310 is 0.20921604335308075\n",
      "Loss in epoch 2320 is 0.2078987956047058\n",
      "Loss in epoch 2330 is 0.2066085934638977\n",
      "Loss in epoch 2340 is 0.2053069770336151\n",
      "Loss in epoch 2350 is 0.2040100246667862\n",
      "Loss in epoch 2360 is 0.20273225009441376\n",
      "Loss in epoch 2370 is 0.20147211849689484\n",
      "Loss in epoch 2380 is 0.2002294361591339\n",
      "Loss in epoch 2390 is 0.1990056186914444\n",
      "Loss in epoch 2400 is 0.1977788805961609\n",
      "Loss in epoch 2410 is 0.19655808806419373\n",
      "Loss in epoch 2420 is 0.19532127678394318\n",
      "Loss in epoch 2430 is 0.19410139322280884\n",
      "Loss in epoch 2440 is 0.19288891553878784\n",
      "Loss in epoch 2450 is 0.19166682660579681\n",
      "Loss in epoch 2460 is 0.19043412804603577\n",
      "Loss in epoch 2470 is 0.18923069536685944\n",
      "Loss in epoch 2480 is 0.18805672228336334\n",
      "Loss in epoch 2490 is 0.1868458092212677\n",
      "Loss in epoch 2500 is 0.18565021455287933\n",
      "Loss in epoch 2510 is 0.18449825048446655\n",
      "Loss in epoch 2520 is 0.18338336050510406\n",
      "Loss in epoch 2530 is 0.18229588866233826\n",
      "Loss in epoch 2540 is 0.18120713531970978\n",
      "Loss in epoch 2550 is 0.18013519048690796\n",
      "Loss in epoch 2560 is 0.17906604707241058\n",
      "Loss in epoch 2570 is 0.17801152169704437\n",
      "Loss in epoch 2580 is 0.17697079479694366\n",
      "Loss in epoch 2590 is 0.17593523859977722\n",
      "Loss in epoch 2600 is 0.1749066710472107\n",
      "Loss in epoch 2610 is 0.17389358580112457\n",
      "Loss in epoch 2620 is 0.17289088666439056\n",
      "Loss in epoch 2630 is 0.17191201448440552\n",
      "Loss in epoch 2640 is 0.1709558665752411\n",
      "Loss in epoch 2650 is 0.17001880705356598\n",
      "Loss in epoch 2660 is 0.16909882426261902\n",
      "Loss in epoch 2670 is 0.1681899130344391\n",
      "Loss in epoch 2680 is 0.1672801971435547\n",
      "Loss in epoch 2690 is 0.1663791835308075\n",
      "Loss in epoch 2700 is 0.16549456119537354\n",
      "Loss in epoch 2710 is 0.16462190449237823\n",
      "Loss in epoch 2720 is 0.16376222670078278\n",
      "Loss in epoch 2730 is 0.16291660070419312\n",
      "Loss in epoch 2740 is 0.16208475828170776\n",
      "Loss in epoch 2750 is 0.16126561164855957\n",
      "Loss in epoch 2760 is 0.16045579314231873\n",
      "Loss in epoch 2770 is 0.1596604287624359\n",
      "Loss in epoch 2780 is 0.15888166427612305\n",
      "Loss in epoch 2790 is 0.15811288356781006\n",
      "Loss in epoch 2800 is 0.15736247599124908\n",
      "Loss in epoch 2810 is 0.15662086009979248\n",
      "Loss in epoch 2820 is 0.15589654445648193\n",
      "Loss in epoch 2830 is 0.1551765352487564\n",
      "Loss in epoch 2840 is 0.15445896983146667\n",
      "Loss in epoch 2850 is 0.15374663472175598\n",
      "Loss in epoch 2860 is 0.15304140746593475\n",
      "Loss in epoch 2870 is 0.15233123302459717\n",
      "Loss in epoch 2880 is 0.15163342654705048\n",
      "Loss in epoch 2890 is 0.1509508341550827\n",
      "Loss in epoch 2900 is 0.15028056502342224\n",
      "Loss in epoch 2910 is 0.14962345361709595\n",
      "Loss in epoch 2920 is 0.1489734947681427\n",
      "Loss in epoch 2930 is 0.14830178022384644\n",
      "Loss in epoch 2940 is 0.1476481556892395\n",
      "Loss in epoch 2950 is 0.14700928330421448\n",
      "Loss in epoch 2960 is 0.14638139307498932\n",
      "Loss in epoch 2970 is 0.1457630842924118\n",
      "Loss in epoch 2980 is 0.14515548944473267\n",
      "Loss in epoch 2990 is 0.14455696940422058\n",
      "Loss in epoch 3000 is 0.1439688801765442\n",
      "Loss in epoch 3010 is 0.14338864386081696\n",
      "Loss in epoch 3020 is 0.14281512796878815\n",
      "Loss in epoch 3030 is 0.1422463059425354\n",
      "Loss in epoch 3040 is 0.14168782532215118\n",
      "Loss in epoch 3050 is 0.14113856852054596\n",
      "Loss in epoch 3060 is 0.14059866964817047\n",
      "Loss in epoch 3070 is 0.1400512009859085\n",
      "Loss in epoch 3080 is 0.13950569927692413\n",
      "Loss in epoch 3090 is 0.13896887004375458\n",
      "Loss in epoch 3100 is 0.13843798637390137\n",
      "Loss in epoch 3110 is 0.13791970908641815\n",
      "Loss in epoch 3120 is 0.13740918040275574\n",
      "Loss in epoch 3130 is 0.1369016468524933\n",
      "Loss in epoch 3140 is 0.13640180230140686\n",
      "Loss in epoch 3150 is 0.13590791821479797\n",
      "Loss in epoch 3160 is 0.1354200690984726\n",
      "Loss in epoch 3170 is 0.1349387764930725\n",
      "Loss in epoch 3180 is 0.13446445763111115\n",
      "Loss in epoch 3190 is 0.13399268686771393\n",
      "Loss in epoch 3200 is 0.13352207839488983\n",
      "Loss in epoch 3210 is 0.1330590695142746\n",
      "Loss in epoch 3220 is 0.13260327279567719\n",
      "Loss in epoch 3230 is 0.13215191662311554\n",
      "Loss in epoch 3240 is 0.13170208036899567\n",
      "Loss in epoch 3250 is 0.13124893605709076\n",
      "Loss in epoch 3260 is 0.1307995468378067\n",
      "Loss in epoch 3270 is 0.13035836815834045\n",
      "Loss in epoch 3280 is 0.1299186795949936\n",
      "Loss in epoch 3290 is 0.12948401272296906\n",
      "Loss in epoch 3300 is 0.12905465066432953\n",
      "Loss in epoch 3310 is 0.1286298632621765\n",
      "Loss in epoch 3320 is 0.12821058928966522\n",
      "Loss in epoch 3330 is 0.12779688835144043\n",
      "Loss in epoch 3340 is 0.12738654017448425\n",
      "Loss in epoch 3350 is 0.12697868049144745\n",
      "Loss in epoch 3360 is 0.1265762597322464\n",
      "Loss in epoch 3370 is 0.1261749416589737\n",
      "Loss in epoch 3380 is 0.125777468085289\n",
      "Loss in epoch 3390 is 0.12538407742977142\n",
      "Loss in epoch 3400 is 0.12499520182609558\n",
      "Loss in epoch 3410 is 0.12460952252149582\n",
      "Loss in epoch 3420 is 0.12422790378332138\n",
      "Loss in epoch 3430 is 0.12384714186191559\n",
      "Loss in epoch 3440 is 0.12347357720136642\n",
      "Loss in epoch 3450 is 0.123100146651268\n",
      "Loss in epoch 3460 is 0.12273193895816803\n",
      "Loss in epoch 3470 is 0.12236380577087402\n",
      "Loss in epoch 3480 is 0.12200196832418442\n",
      "Loss in epoch 3490 is 0.12163742631673813\n",
      "Loss in epoch 3500 is 0.1212732121348381\n",
      "Loss in epoch 3510 is 0.12091316282749176\n",
      "Loss in epoch 3520 is 0.12055754661560059\n",
      "Loss in epoch 3530 is 0.12020538747310638\n",
      "Loss in epoch 3540 is 0.11985426396131516\n",
      "Loss in epoch 3550 is 0.11950954049825668\n",
      "Loss in epoch 3560 is 0.11916517466306686\n",
      "Loss in epoch 3570 is 0.11882574111223221\n",
      "Loss in epoch 3580 is 0.11848866939544678\n",
      "Loss in epoch 3590 is 0.11815156787633896\n",
      "Loss in epoch 3600 is 0.11781900376081467\n",
      "Loss in epoch 3610 is 0.1174888089299202\n",
      "Loss in epoch 3620 is 0.11716201901435852\n",
      "Loss in epoch 3630 is 0.11683836579322815\n",
      "Loss in epoch 3640 is 0.11651728302240372\n",
      "Loss in epoch 3650 is 0.1161985769867897\n",
      "Loss in epoch 3660 is 0.1158822700381279\n",
      "Loss in epoch 3670 is 0.11556863784790039\n",
      "Loss in epoch 3680 is 0.11525704711675644\n",
      "Loss in epoch 3690 is 0.11494787782430649\n",
      "Loss in epoch 3700 is 0.11464058607816696\n",
      "Loss in epoch 3710 is 0.11433567851781845\n",
      "Loss in epoch 3720 is 0.11403283476829529\n",
      "Loss in epoch 3730 is 0.11373110115528107\n",
      "Loss in epoch 3740 is 0.11343175917863846\n",
      "Loss in epoch 3750 is 0.11313547194004059\n",
      "Loss in epoch 3760 is 0.11283919960260391\n",
      "Loss in epoch 3770 is 0.11254798620939255\n",
      "Loss in epoch 3780 is 0.1122584417462349\n",
      "Loss in epoch 3790 is 0.11196817457675934\n",
      "Loss in epoch 3800 is 0.11168128252029419\n",
      "Loss in epoch 3810 is 0.1113986223936081\n",
      "Loss in epoch 3820 is 0.11111563444137573\n",
      "Loss in epoch 3830 is 0.11083310097455978\n",
      "Loss in epoch 3840 is 0.11055294424295425\n",
      "Loss in epoch 3850 is 0.11027690023183823\n",
      "Loss in epoch 3860 is 0.11000113934278488\n",
      "Loss in epoch 3870 is 0.10972669720649719\n",
      "Loss in epoch 3880 is 0.10945288836956024\n",
      "Loss in epoch 3890 is 0.10918230563402176\n",
      "Loss in epoch 3900 is 0.10891731828451157\n",
      "Loss in epoch 3910 is 0.10865159332752228\n",
      "Loss in epoch 3920 is 0.10838708281517029\n",
      "Loss in epoch 3930 is 0.10812438279390335\n",
      "Loss in epoch 3940 is 0.10786379873752594\n",
      "Loss in epoch 3950 is 0.10760580003261566\n",
      "Loss in epoch 3960 is 0.10734987258911133\n",
      "Loss in epoch 3970 is 0.10709282755851746\n",
      "Loss in epoch 3980 is 0.10683904588222504\n",
      "Loss in epoch 3990 is 0.10658358782529831\n",
      "Loss in epoch 4000 is 0.10633128136396408\n",
      "Loss in epoch 4010 is 0.10608109086751938\n",
      "Loss in epoch 4020 is 0.10582772642374039\n",
      "Loss in epoch 4030 is 0.10557770729064941\n",
      "Loss in epoch 4040 is 0.10532932728528976\n",
      "Loss in epoch 4050 is 0.10507983714342117\n",
      "Loss in epoch 4060 is 0.1048339456319809\n",
      "Loss in epoch 4070 is 0.10458766669034958\n",
      "Loss in epoch 4080 is 0.10434465110301971\n",
      "Loss in epoch 4090 is 0.10410427302122116\n",
      "Loss in epoch 4100 is 0.10386095196008682\n",
      "Loss in epoch 4110 is 0.10361964255571365\n",
      "Loss in epoch 4120 is 0.10338066518306732\n",
      "Loss in epoch 4130 is 0.10314217209815979\n",
      "Loss in epoch 4140 is 0.10290657728910446\n",
      "Loss in epoch 4150 is 0.1026715487241745\n"
     ]
    },
    {
     "name": "stdout",
     "output_type": "stream",
     "text": [
      "Loss in epoch 4160 is 0.10244029015302658\n",
      "Loss in epoch 4170 is 0.10220978409051895\n",
      "Loss in epoch 4180 is 0.10197938233613968\n",
      "Loss in epoch 4190 is 0.10174968093633652\n",
      "Loss in epoch 4200 is 0.10152164846658707\n",
      "Loss in epoch 4210 is 0.10129224509000778\n",
      "Loss in epoch 4220 is 0.10104579478502274\n",
      "Loss in epoch 4230 is 0.10080566257238388\n",
      "Loss in epoch 4240 is 0.10056494176387787\n",
      "Loss in epoch 4250 is 0.10032095015048981\n",
      "Loss in epoch 4260 is 0.10006910562515259\n",
      "Loss in epoch 4270 is 0.09982242435216904\n",
      "Loss in epoch 4280 is 0.09957393258810043\n",
      "Loss in epoch 4290 is 0.09933195263147354\n",
      "Loss in epoch 4300 is 0.0990954264998436\n",
      "Loss in epoch 4310 is 0.09885694086551666\n",
      "Loss in epoch 4320 is 0.09862133115530014\n",
      "Loss in epoch 4330 is 0.09838885068893433\n",
      "Loss in epoch 4340 is 0.0981563851237297\n",
      "Loss in epoch 4350 is 0.09793128818273544\n",
      "Loss in epoch 4360 is 0.09770354628562927\n",
      "Loss in epoch 4370 is 0.09748196601867676\n",
      "Loss in epoch 4380 is 0.09725665301084518\n",
      "Loss in epoch 4390 is 0.09701203554868698\n",
      "Loss in epoch 4400 is 0.09677158296108246\n",
      "Loss in epoch 4410 is 0.0965348407626152\n",
      "Loss in epoch 4420 is 0.09630290418863297\n",
      "Loss in epoch 4430 is 0.09607427567243576\n",
      "Loss in epoch 4440 is 0.09584904462099075\n",
      "Loss in epoch 4450 is 0.09561409056186676\n",
      "Loss in epoch 4460 is 0.09537959843873978\n",
      "Loss in epoch 4470 is 0.09515053033828735\n",
      "Loss in epoch 4480 is 0.09492554515600204\n",
      "Loss in epoch 4490 is 0.09467284381389618\n",
      "Loss in epoch 4500 is 0.09439682960510254\n",
      "Loss in epoch 4510 is 0.09412891417741776\n",
      "Loss in epoch 4520 is 0.09386874735355377\n",
      "Loss in epoch 4530 is 0.09361670911312103\n",
      "Loss in epoch 4540 is 0.09336495399475098\n",
      "Loss in epoch 4550 is 0.09311722964048386\n",
      "Loss in epoch 4560 is 0.09287605434656143\n",
      "Loss in epoch 4570 is 0.09262573719024658\n",
      "Loss in epoch 4580 is 0.09237566590309143\n",
      "Loss in epoch 4590 is 0.09214073419570923\n",
      "Loss in epoch 4600 is 0.09190264344215393\n",
      "Loss in epoch 4610 is 0.09167308360338211\n",
      "Loss in epoch 4620 is 0.09144554287195206\n",
      "Loss in epoch 4630 is 0.0912168100476265\n",
      "Loss in epoch 4640 is 0.0909930095076561\n",
      "Loss in epoch 4650 is 0.09076929092407227\n",
      "Loss in epoch 4660 is 0.09055329114198685\n",
      "Loss in epoch 4670 is 0.09033212810754776\n",
      "Loss in epoch 4680 is 0.09011348336935043\n",
      "Loss in epoch 4690 is 0.08989816159009933\n",
      "Loss in epoch 4700 is 0.08968541771173477\n",
      "Loss in epoch 4710 is 0.08947263658046722\n",
      "Loss in epoch 4720 is 0.08926663547754288\n",
      "Loss in epoch 4730 is 0.08905327320098877\n",
      "Loss in epoch 4740 is 0.08884964138269424\n",
      "Loss in epoch 4750 is 0.08863862603902817\n",
      "Loss in epoch 4760 is 0.08843588083982468\n",
      "Loss in epoch 4770 is 0.08823198825120926\n",
      "Loss in epoch 4780 is 0.08803195506334305\n",
      "Loss in epoch 4790 is 0.08783537894487381\n",
      "Loss in epoch 4800 is 0.08763261139392853\n",
      "Loss in epoch 4810 is 0.08743882179260254\n",
      "Loss in epoch 4820 is 0.08724267035722733\n",
      "Loss in epoch 4830 is 0.08704303205013275\n",
      "Loss in epoch 4840 is 0.0868530422449112\n",
      "Loss in epoch 4850 is 0.08665568381547928\n",
      "Loss in epoch 4860 is 0.0864594429731369\n",
      "Loss in epoch 4870 is 0.08626241236925125\n",
      "Loss in epoch 4880 is 0.08606486022472382\n",
      "Loss in epoch 4890 is 0.08587180078029633\n",
      "Loss in epoch 4900 is 0.08567927777767181\n",
      "Loss in epoch 4910 is 0.08548949658870697\n",
      "Loss in epoch 4920 is 0.08530489355325699\n",
      "Loss in epoch 4930 is 0.08511991798877716\n",
      "Loss in epoch 4940 is 0.08492839336395264\n",
      "Loss in epoch 4950 is 0.08474395424127579\n",
      "Loss in epoch 4960 is 0.08456137776374817\n",
      "Loss in epoch 4970 is 0.0843806341290474\n",
      "Loss in epoch 4980 is 0.08420584350824356\n",
      "Loss in epoch 4990 is 0.08402178436517715\n",
      "Done training \n"
     ]
    }
   ],
   "source": [
    "# create network, move it to device and set it to training-mode\n",
    "net = Net().to(device)\n",
    "net.train()\n",
    "\n",
    "# define the parameters for training\n",
    "no_epochs = 5000\n",
    "learning_rate = 0.01\n",
    "loss_func = nn.CrossEntropyLoss()  # applies softmax() internally\n",
    "optimizer = torch.optim.SGD(net.parameters(), lr=learning_rate)\n",
    "\n",
    "print(\"\\nStarting training \")\n",
    "\n",
    "train_losses = []\n",
    "for epoch in range(0, no_epochs):\n",
    "\n",
    "  optimizer.zero_grad()\n",
    "  output = net(train_x)\n",
    "\n",
    "  loss = loss_func(output, train_y)\n",
    "  loss.backward()\n",
    "  optimizer.step()\n",
    "\n",
    "  train_losses.append(loss.item())\n",
    "  \n",
    "  if epoch % 10 == 0:\n",
    "    print(f\"Loss in epoch {epoch} is {loss.item()}\")\n",
    "\n",
    "print(\"Done training \")"
   ]
  },
  {
   "cell_type": "code",
   "execution_count": 9,
   "metadata": {
    "colab": {
     "base_uri": "https://localhost:8080/",
     "height": 296
    },
    "id": "fMPxG1i873W7",
    "outputId": "8ed83937-f40a-4e0e-a259-e409fff8fc9e"
   },
   "outputs": [
    {
     "data": {
      "text/plain": [
       "Text(0, 0.5, 'loss')"
      ]
     },
     "execution_count": 9,
     "metadata": {},
     "output_type": "execute_result"
    },
    {
     "data": {
      "image/png": "[encoded data removed]",
      "text/plain": [
       "<Figure size 432x288 with 1 Axes>"
      ]
     },
     "metadata": {
      "needs_background": "light"
     },
     "output_type": "display_data"
    }
   ],
   "source": [
    "  fig = plt.figure()\n",
    "  plt.plot(range(0, no_epochs), train_losses, color='blue')\n",
    "  plt.legend(['Train Loss'], loc='upper right')\n",
    "  plt.xlabel('number of epochs')\n",
    "  plt.ylabel('loss')"
   ]
  },
  {
   "cell_type": "markdown",
   "metadata": {
    "id": "cN8btFSP3yU2"
   },
   "source": [
    "### 4. Model Evaluation"
   ]
  },
  {
   "cell_type": "code",
   "execution_count": 10,
   "metadata": {
    "colab": {
     "base_uri": "https://localhost:8080/"
    },
    "id": "wsmVfo49Kytp",
    "outputId": "73bdda50-20d6-41e3-bb45-ce40c114f6fc"
   },
   "outputs": [
    {
     "name": "stdout",
     "output_type": "stream",
     "text": [
      "Accuarcy is 90.83333333333333%\n"
     ]
    }
   ],
   "source": [
    "net.eval() # set network to evaluation mode\n",
    "y_pred = net(test_x)\n",
    "_, predicted = torch.max(y_pred.data, 1)\n",
    "correct = (predicted == test_y).sum().item()\n",
    "print(f\"Accuarcy is {100. * correct / len(test_x)}%\")"
   ]
  },
  {
   "cell_type": "code",
   "execution_count": null,
   "metadata": {
    "id": "sB9CFaSTWsNG"
   },
   "outputs": [],
   "source": []
  }
 ],
 "metadata": {
  "colab": {
   "authorship_tag": "ABX9TyNB7ogddopYqmFoUzkoa6YX",
   "collapsed_sections": [],
   "include_colab_link": true,
   "name": "4_PyTorch_Example.ipynb",
   "provenance": []
  },
  "kernelspec": {
   "display_name": "Python 3",
   "language": "python",
   "name": "python3"
  },
  "language_info": {
   "codemirror_mode": {
    "name": "ipython",
    "version": 3
   },
   "file_extension": ".py",
   "mimetype": "text/x-python",
   "name": "python",
   "nbconvert_exporter": "python",
   "pygments_lexer": "ipython3",
   "version": "3.8.5"
  }
 },
 "nbformat": 4,
 "nbformat_minor": 1
}

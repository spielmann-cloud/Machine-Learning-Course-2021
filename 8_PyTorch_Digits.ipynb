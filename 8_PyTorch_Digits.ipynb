{
  "nbformat": 4,
  "nbformat_minor": 0,
  "metadata": {
    "colab": {
      "name": "4_PyTorch_Example.ipynb",
      "provenance": [],
      "collapsed_sections": [],
      "authorship_tag": "ABX9TyNB7ogddopYqmFoUzkoa6YX",
      "include_colab_link": true
    },
    "kernelspec": {
      "name": "python3",
      "display_name": "Python 3"
    }
  },
  "cells": [
    {
      "cell_type": "markdown",
      "metadata": {
        "id": "view-in-github",
        "colab_type": "text"
      },
      "source": [
        "<a href=\"https://colab.research.google.com/github/pabair/ml-kurs-ss21/blob/master/8_PyTorch_Digits.ipynb\" target=\"_parent\"><img src=\"https://colab.research.google.com/assets/colab-badge.svg\" alt=\"Open In Colab\"/></a>"
      ]
    },
    {
      "cell_type": "markdown",
      "metadata": {
        "id": "TOBUyiZq3d2u"
      },
      "source": [
        "# PyTorch Digits Example\n",
        "This example classifies the digit dataset using a neural net.\n",
        "For more details on the dataset, check [this](https://github.com/pabair/ml-kurs-ss21/blob/master/2_Logistische_Regression_Digits.ipynb) notebook.\n",
        "\n"
      ]
    },
    {
      "cell_type": "markdown",
      "metadata": {
        "id": "LhdvnPe4Q-pO"
      },
      "source": [
        "### 0. Preamble"
      ]
    },
    {
      "cell_type": "code",
      "metadata": {
        "id": "K8-YOrlu3w8z"
      },
      "source": [
        "import numpy as np\n",
        "import torch\n",
        "import torch.nn.functional as F\n",
        "import torch.nn as nn\n",
        "import matplotlib.pyplot as plt\n",
        "\n",
        "torch.manual_seed(1)\n",
        "np.random.seed(1)"
      ],
      "execution_count": 1,
      "outputs": []
    },
    {
      "cell_type": "code",
      "metadata": {
        "colab": {
          "base_uri": "https://localhost:8080/"
        },
        "id": "S3DgoJj735Gr",
        "outputId": "e56e337f-c44f-4bc3-c1ae-e532bb999356"
      },
      "source": [
        "if(torch.cuda.is_available()):\n",
        "  processing_chip = \"cuda:0\"\n",
        "  print(f\"{torch.cuda.get_device_name(0)} available\")\n",
        "else:\n",
        "  processing_chip = \"cpu\"\n",
        "  print(\"No GPU available\")\n",
        "\n",
        "device = torch.device(processing_chip)\n",
        "device"
      ],
      "execution_count": 2,
      "outputs": [
        {
          "output_type": "stream",
          "text": [
            "No GPU available\n"
          ],
          "name": "stdout"
        },
        {
          "output_type": "execute_result",
          "data": {
            "text/plain": [
              "device(type='cpu')"
            ]
          },
          "metadata": {
            "tags": []
          },
          "execution_count": 2
        }
      ]
    },
    {
      "cell_type": "markdown",
      "metadata": {
        "id": "Y8EgmXccAr9b"
      },
      "source": [
        "### 1. Data Preperation"
      ]
    },
    {
      "cell_type": "code",
      "metadata": {
        "id": "DZoYUZfQ_TU8"
      },
      "source": [
        "from sklearn.datasets import load_digits\n",
        "data, labels = load_digits(return_X_y = True)"
      ],
      "execution_count": 3,
      "outputs": []
    },
    {
      "cell_type": "code",
      "metadata": {
        "id": "KfY2iF0WTlWu"
      },
      "source": [
        "from sklearn.model_selection import train_test_split\n",
        "train_X, test_X, train_y, test_y = train_test_split(data, labels, test_size=0.2, random_state=0)"
      ],
      "execution_count": 4,
      "outputs": []
    },
    {
      "cell_type": "code",
      "metadata": {
        "colab": {
          "base_uri": "https://localhost:8080/"
        },
        "id": "fQqdZZ16AHBe",
        "outputId": "75f7aff9-a647-4010-bafa-8141fc7aa46d"
      },
      "source": [
        "train_X"
      ],
      "execution_count": 5,
      "outputs": [
        {
          "output_type": "execute_result",
          "data": {
            "text/plain": [
              "array([[ 0.,  0.,  0., ..., 16., 16.,  6.],\n",
              "       [ 0.,  3., 12., ..., 16.,  2.,  0.],\n",
              "       [ 0.,  1., 10., ...,  0.,  0.,  0.],\n",
              "       ...,\n",
              "       [ 0.,  0.,  5., ...,  0.,  0.,  0.],\n",
              "       [ 0.,  0.,  4., ...,  0.,  0.,  0.],\n",
              "       [ 0.,  0.,  6., ..., 11.,  0.,  0.]])"
            ]
          },
          "metadata": {
            "tags": []
          },
          "execution_count": 5
        }
      ]
    },
    {
      "cell_type": "code",
      "metadata": {
        "id": "-OI44o3i-grB"
      },
      "source": [
        "train_x = torch.Tensor(train_X).float().to(device)\n",
        "test_x = torch.Tensor(test_X).float().to(device)\n",
        "train_y =torch.Tensor(train_y).long().to(device)\n",
        "test_y = torch.Tensor(test_y).long().to(device)"
      ],
      "execution_count": 6,
      "outputs": []
    },
    {
      "cell_type": "markdown",
      "metadata": {
        "id": "5wcTXnyu7NWK"
      },
      "source": [
        "### 2. Model definition \n"
      ]
    },
    {
      "cell_type": "code",
      "metadata": {
        "id": "_W47oZ534E-1"
      },
      "source": [
        "class Net(nn.Module):\n",
        "  def __init__(self):\n",
        "    super(Net, self).__init__()\n",
        "    self.hidden1 = nn.Linear(64, 5)\n",
        "    self.hidden2 = nn.Linear(5, 7)  \n",
        "    self.output = nn.Linear(7, 10)\n",
        "\n",
        "  def forward(self, x):\n",
        "    z = F.relu(self.hidden1(x))\n",
        "    z = F.relu(self.hidden2(z))\n",
        "    z = self.output(z)  # no softmax. see CrossEntropyLoss() \n",
        "    return z"
      ],
      "execution_count": 7,
      "outputs": []
    },
    {
      "cell_type": "markdown",
      "metadata": {
        "id": "gJyy5JG_84vs"
      },
      "source": [
        "### 3. Model Training"
      ]
    },
    {
      "cell_type": "code",
      "metadata": {
        "colab": {
          "base_uri": "https://localhost:8080/"
        },
        "id": "7RQHZvvyAFzV",
        "outputId": "85c7caef-49ee-443f-d052-30af1758c4a2"
      },
      "source": [
        "# create network, move it to device and set it to training-mode\n",
        "net = Net().to(device)\n",
        "net.train()\n",
        "\n",
        "# define the parameters for training\n",
        "no_epochs = 5000\n",
        "learning_rate = 0.01\n",
        "loss_func = nn.CrossEntropyLoss()  # applies softmax() internally\n",
        "optimizer = torch.optim.SGD(net.parameters(), lr=learning_rate)\n",
        "\n",
        "print(\"\\nStarting training \")\n",
        "\n",
        "train_losses = []\n",
        "for epoch in range(0, no_epochs):\n",
        "\n",
        "  optimizer.zero_grad()\n",
        "  output = net(train_x)\n",
        "\n",
        "  loss = loss_func(output, train_y)\n",
        "  loss.backward()\n",
        "  optimizer.step()\n",
        "\n",
        "  train_losses.append(loss.item())\n",
        "  \n",
        "  if epoch % 10 == 0:\n",
        "    print(f\"Loss in epoch {epoch} is {loss.item()}\")\n",
        "\n",
        "print(\"Done training \")"
      ],
      "execution_count": 8,
      "outputs": [
        {
          "output_type": "stream",
          "text": [
            "\n",
            "Starting training \n",
            "Loss in epoch 0 is 2.483743906021118\n",
            "Loss in epoch 10 is 2.2992963790893555\n",
            "Loss in epoch 20 is 2.2463860511779785\n",
            "Loss in epoch 30 is 2.206214666366577\n",
            "Loss in epoch 40 is 2.1667559146881104\n",
            "Loss in epoch 50 is 2.1252381801605225\n",
            "Loss in epoch 60 is 2.0811972618103027\n",
            "Loss in epoch 70 is 2.03448224067688\n",
            "Loss in epoch 80 is 1.9860403537750244\n",
            "Loss in epoch 90 is 1.9372819662094116\n",
            "Loss in epoch 100 is 1.8889433145523071\n",
            "Loss in epoch 110 is 1.8417812585830688\n",
            "Loss in epoch 120 is 1.7961574792861938\n",
            "Loss in epoch 130 is 1.751318335533142\n",
            "Loss in epoch 140 is 1.7079929113388062\n",
            "Loss in epoch 150 is 1.6661914587020874\n",
            "Loss in epoch 160 is 1.6260013580322266\n",
            "Loss in epoch 170 is 1.5874701738357544\n",
            "Loss in epoch 180 is 1.5508407354354858\n",
            "Loss in epoch 190 is 1.5158514976501465\n",
            "Loss in epoch 200 is 1.482245683670044\n",
            "Loss in epoch 210 is 1.4499739408493042\n",
            "Loss in epoch 220 is 1.4189562797546387\n",
            "Loss in epoch 230 is 1.3894201517105103\n",
            "Loss in epoch 240 is 1.3612138032913208\n",
            "Loss in epoch 250 is 1.3339855670928955\n",
            "Loss in epoch 260 is 1.307679533958435\n",
            "Loss in epoch 270 is 1.2820172309875488\n",
            "Loss in epoch 280 is 1.2571051120758057\n",
            "Loss in epoch 290 is 1.2327852249145508\n",
            "Loss in epoch 300 is 1.2086467742919922\n",
            "Loss in epoch 310 is 1.1847710609436035\n",
            "Loss in epoch 320 is 1.1614954471588135\n",
            "Loss in epoch 330 is 1.1384820938110352\n",
            "Loss in epoch 340 is 1.1158767938613892\n",
            "Loss in epoch 350 is 1.0937647819519043\n",
            "Loss in epoch 360 is 1.07217538356781\n",
            "Loss in epoch 370 is 1.050430178642273\n",
            "Loss in epoch 380 is 1.0282329320907593\n",
            "Loss in epoch 390 is 1.0062288045883179\n",
            "Loss in epoch 400 is 0.9844510555267334\n",
            "Loss in epoch 410 is 0.9627918601036072\n",
            "Loss in epoch 420 is 0.9409788846969604\n",
            "Loss in epoch 430 is 0.9193518757820129\n",
            "Loss in epoch 440 is 0.8981907963752747\n",
            "Loss in epoch 450 is 0.87735915184021\n",
            "Loss in epoch 460 is 0.8568664789199829\n",
            "Loss in epoch 470 is 0.8368003368377686\n",
            "Loss in epoch 480 is 0.8173706531524658\n",
            "Loss in epoch 490 is 0.7988772988319397\n",
            "Loss in epoch 500 is 0.7812323570251465\n",
            "Loss in epoch 510 is 0.7644420266151428\n",
            "Loss in epoch 520 is 0.7483154535293579\n",
            "Loss in epoch 530 is 0.7327653169631958\n",
            "Loss in epoch 540 is 0.7178939580917358\n",
            "Loss in epoch 550 is 0.7037084698677063\n",
            "Loss in epoch 560 is 0.6900222897529602\n",
            "Loss in epoch 570 is 0.6771773099899292\n",
            "Loss in epoch 580 is 0.6649320125579834\n",
            "Loss in epoch 590 is 0.6532344818115234\n",
            "Loss in epoch 600 is 0.6420308351516724\n",
            "Loss in epoch 610 is 0.6313813328742981\n",
            "Loss in epoch 620 is 0.6213043332099915\n",
            "Loss in epoch 630 is 0.6117708086967468\n",
            "Loss in epoch 640 is 0.602624237537384\n",
            "Loss in epoch 650 is 0.5939766764640808\n",
            "Loss in epoch 660 is 0.5858021378517151\n",
            "Loss in epoch 670 is 0.5780697464942932\n",
            "Loss in epoch 680 is 0.5706365704536438\n",
            "Loss in epoch 690 is 0.5635660290718079\n",
            "Loss in epoch 700 is 0.5567636489868164\n",
            "Loss in epoch 710 is 0.5502094626426697\n",
            "Loss in epoch 720 is 0.5438701510429382\n",
            "Loss in epoch 730 is 0.5375605225563049\n",
            "Loss in epoch 740 is 0.5314764976501465\n",
            "Loss in epoch 750 is 0.5256702899932861\n",
            "Loss in epoch 760 is 0.5200309157371521\n",
            "Loss in epoch 770 is 0.5145842432975769\n",
            "Loss in epoch 780 is 0.5094489455223083\n",
            "Loss in epoch 790 is 0.5045340657234192\n",
            "Loss in epoch 800 is 0.4997161030769348\n",
            "Loss in epoch 810 is 0.49505525827407837\n",
            "Loss in epoch 820 is 0.4904794991016388\n",
            "Loss in epoch 830 is 0.48602864146232605\n",
            "Loss in epoch 840 is 0.4816683530807495\n",
            "Loss in epoch 850 is 0.47743889689445496\n",
            "Loss in epoch 860 is 0.4733869433403015\n",
            "Loss in epoch 870 is 0.469416081905365\n",
            "Loss in epoch 880 is 0.4655381143093109\n",
            "Loss in epoch 890 is 0.46177032589912415\n",
            "Loss in epoch 900 is 0.4580739438533783\n",
            "Loss in epoch 910 is 0.45451629161834717\n",
            "Loss in epoch 920 is 0.45112669467926025\n",
            "Loss in epoch 930 is 0.44781315326690674\n",
            "Loss in epoch 940 is 0.44455987215042114\n",
            "Loss in epoch 950 is 0.44139188528060913\n",
            "Loss in epoch 960 is 0.4382745921611786\n",
            "Loss in epoch 970 is 0.43518492579460144\n",
            "Loss in epoch 980 is 0.4321907162666321\n",
            "Loss in epoch 990 is 0.4292970895767212\n",
            "Loss in epoch 1000 is 0.4264219403266907\n",
            "Loss in epoch 1010 is 0.4235873818397522\n",
            "Loss in epoch 1020 is 0.42081135511398315\n",
            "Loss in epoch 1030 is 0.418082594871521\n",
            "Loss in epoch 1040 is 0.4154171347618103\n",
            "Loss in epoch 1050 is 0.41282299160957336\n",
            "Loss in epoch 1060 is 0.41027623414993286\n",
            "Loss in epoch 1070 is 0.4077657163143158\n",
            "Loss in epoch 1080 is 0.40528604388237\n",
            "Loss in epoch 1090 is 0.4028582274913788\n",
            "Loss in epoch 1100 is 0.40047532320022583\n",
            "Loss in epoch 1110 is 0.3981267213821411\n",
            "Loss in epoch 1120 is 0.39581507444381714\n",
            "Loss in epoch 1130 is 0.39354172348976135\n",
            "Loss in epoch 1140 is 0.39129549264907837\n",
            "Loss in epoch 1150 is 0.38907843828201294\n",
            "Loss in epoch 1160 is 0.3868938982486725\n",
            "Loss in epoch 1170 is 0.38474366068840027\n",
            "Loss in epoch 1180 is 0.38262420892715454\n",
            "Loss in epoch 1190 is 0.38053014874458313\n",
            "Loss in epoch 1200 is 0.37842196226119995\n",
            "Loss in epoch 1210 is 0.376343697309494\n",
            "Loss in epoch 1220 is 0.3742869794368744\n",
            "Loss in epoch 1230 is 0.37227046489715576\n",
            "Loss in epoch 1240 is 0.37029320001602173\n",
            "Loss in epoch 1250 is 0.36833250522613525\n",
            "Loss in epoch 1260 is 0.36637818813323975\n",
            "Loss in epoch 1270 is 0.36440324783325195\n",
            "Loss in epoch 1280 is 0.36246469616889954\n",
            "Loss in epoch 1290 is 0.36054694652557373\n",
            "Loss in epoch 1300 is 0.3586665689945221\n",
            "Loss in epoch 1310 is 0.35681843757629395\n",
            "Loss in epoch 1320 is 0.35497966408729553\n",
            "Loss in epoch 1330 is 0.3531534969806671\n",
            "Loss in epoch 1340 is 0.3513453006744385\n",
            "Loss in epoch 1350 is 0.3495575487613678\n",
            "Loss in epoch 1360 is 0.3477894365787506\n",
            "Loss in epoch 1370 is 0.3460400104522705\n",
            "Loss in epoch 1380 is 0.34430569410324097\n",
            "Loss in epoch 1390 is 0.34258726239204407\n",
            "Loss in epoch 1400 is 0.34089189767837524\n",
            "Loss in epoch 1410 is 0.3392091691493988\n",
            "Loss in epoch 1420 is 0.33754241466522217\n",
            "Loss in epoch 1430 is 0.33589327335357666\n",
            "Loss in epoch 1440 is 0.33426329493522644\n",
            "Loss in epoch 1450 is 0.3326459527015686\n",
            "Loss in epoch 1460 is 0.33104556798934937\n",
            "Loss in epoch 1470 is 0.32945817708969116\n",
            "Loss in epoch 1480 is 0.3278871178627014\n",
            "Loss in epoch 1490 is 0.326327383518219\n",
            "Loss in epoch 1500 is 0.3247798979282379\n",
            "Loss in epoch 1510 is 0.3232237696647644\n",
            "Loss in epoch 1520 is 0.321584016084671\n",
            "Loss in epoch 1530 is 0.31999555230140686\n",
            "Loss in epoch 1540 is 0.31821930408477783\n",
            "Loss in epoch 1550 is 0.31635674834251404\n",
            "Loss in epoch 1560 is 0.3142950236797333\n",
            "Loss in epoch 1570 is 0.31243422627449036\n",
            "Loss in epoch 1580 is 0.31069236993789673\n",
            "Loss in epoch 1590 is 0.30903536081314087\n",
            "Loss in epoch 1600 is 0.3073997497558594\n",
            "Loss in epoch 1610 is 0.3057611882686615\n",
            "Loss in epoch 1620 is 0.30414310097694397\n",
            "Loss in epoch 1630 is 0.302571177482605\n",
            "Loss in epoch 1640 is 0.3010375201702118\n",
            "Loss in epoch 1650 is 0.2994597256183624\n",
            "Loss in epoch 1660 is 0.2978595793247223\n",
            "Loss in epoch 1670 is 0.2962386906147003\n",
            "Loss in epoch 1680 is 0.2946527898311615\n",
            "Loss in epoch 1690 is 0.29311275482177734\n",
            "Loss in epoch 1700 is 0.291605144739151\n",
            "Loss in epoch 1710 is 0.29012832045555115\n",
            "Loss in epoch 1720 is 0.2886716425418854\n",
            "Loss in epoch 1730 is 0.2872393727302551\n",
            "Loss in epoch 1740 is 0.2858225107192993\n",
            "Loss in epoch 1750 is 0.28441792726516724\n",
            "Loss in epoch 1760 is 0.2830217480659485\n",
            "Loss in epoch 1770 is 0.2816409170627594\n",
            "Loss in epoch 1780 is 0.28023672103881836\n",
            "Loss in epoch 1790 is 0.2788439095020294\n",
            "Loss in epoch 1800 is 0.27747097611427307\n",
            "Loss in epoch 1810 is 0.27610859274864197\n",
            "Loss in epoch 1820 is 0.27476105093955994\n",
            "Loss in epoch 1830 is 0.2734304964542389\n",
            "Loss in epoch 1840 is 0.2721025347709656\n",
            "Loss in epoch 1850 is 0.2707301378250122\n",
            "Loss in epoch 1860 is 0.26936644315719604\n",
            "Loss in epoch 1870 is 0.2680032551288605\n",
            "Loss in epoch 1880 is 0.26665598154067993\n",
            "Loss in epoch 1890 is 0.2653229534626007\n",
            "Loss in epoch 1900 is 0.26399973034858704\n",
            "Loss in epoch 1910 is 0.26268163323402405\n",
            "Loss in epoch 1920 is 0.26137855648994446\n",
            "Loss in epoch 1930 is 0.26006796956062317\n",
            "Loss in epoch 1940 is 0.25876736640930176\n",
            "Loss in epoch 1950 is 0.25748786330223083\n",
            "Loss in epoch 1960 is 0.25621968507766724\n",
            "Loss in epoch 1970 is 0.2549605965614319\n",
            "Loss in epoch 1980 is 0.2537117898464203\n",
            "Loss in epoch 1990 is 0.2524682581424713\n",
            "Loss in epoch 2000 is 0.25119832158088684\n",
            "Loss in epoch 2010 is 0.2499229460954666\n",
            "Loss in epoch 2020 is 0.2486485242843628\n",
            "Loss in epoch 2030 is 0.2473834902048111\n",
            "Loss in epoch 2040 is 0.24611018598079681\n",
            "Loss in epoch 2050 is 0.24483367800712585\n",
            "Loss in epoch 2060 is 0.24357059597969055\n",
            "Loss in epoch 2070 is 0.24231959879398346\n",
            "Loss in epoch 2080 is 0.24103812873363495\n",
            "Loss in epoch 2090 is 0.23972705006599426\n",
            "Loss in epoch 2100 is 0.2383878380060196\n",
            "Loss in epoch 2110 is 0.2369842678308487\n",
            "Loss in epoch 2120 is 0.23548643290996552\n",
            "Loss in epoch 2130 is 0.2338305115699768\n",
            "Loss in epoch 2140 is 0.23227189481258392\n",
            "Loss in epoch 2150 is 0.23077942430973053\n",
            "Loss in epoch 2160 is 0.22934004664421082\n",
            "Loss in epoch 2170 is 0.22792749106884003\n",
            "Loss in epoch 2180 is 0.22653847932815552\n",
            "Loss in epoch 2190 is 0.22516833245754242\n",
            "Loss in epoch 2200 is 0.22380618751049042\n",
            "Loss in epoch 2210 is 0.22245819866657257\n",
            "Loss in epoch 2220 is 0.22112278640270233\n",
            "Loss in epoch 2230 is 0.2197982519865036\n",
            "Loss in epoch 2240 is 0.21845966577529907\n",
            "Loss in epoch 2250 is 0.21709460020065308\n",
            "Loss in epoch 2260 is 0.2157163769006729\n",
            "Loss in epoch 2270 is 0.21437080204486847\n",
            "Loss in epoch 2280 is 0.21304777264595032\n",
            "Loss in epoch 2290 is 0.21173930168151855\n",
            "Loss in epoch 2300 is 0.2104322910308838\n",
            "Loss in epoch 2310 is 0.20910406112670898\n",
            "Loss in epoch 2320 is 0.20779310166835785\n",
            "Loss in epoch 2330 is 0.20649266242980957\n",
            "Loss in epoch 2340 is 0.20519229769706726\n",
            "Loss in epoch 2350 is 0.2038983255624771\n",
            "Loss in epoch 2360 is 0.2026229202747345\n",
            "Loss in epoch 2370 is 0.20136776566505432\n",
            "Loss in epoch 2380 is 0.20012561976909637\n",
            "Loss in epoch 2390 is 0.19890129566192627\n",
            "Loss in epoch 2400 is 0.19767893850803375\n",
            "Loss in epoch 2410 is 0.19644129276275635\n",
            "Loss in epoch 2420 is 0.19520790874958038\n",
            "Loss in epoch 2430 is 0.19399139285087585\n",
            "Loss in epoch 2440 is 0.19277545809745789\n",
            "Loss in epoch 2450 is 0.19155248999595642\n",
            "Loss in epoch 2460 is 0.19032105803489685\n",
            "Loss in epoch 2470 is 0.18912088871002197\n",
            "Loss in epoch 2480 is 0.18795208632946014\n",
            "Loss in epoch 2490 is 0.18673650920391083\n",
            "Loss in epoch 2500 is 0.18554767966270447\n",
            "Loss in epoch 2510 is 0.1844005435705185\n",
            "Loss in epoch 2520 is 0.1832902729511261\n",
            "Loss in epoch 2530 is 0.18220214545726776\n",
            "Loss in epoch 2540 is 0.18111726641654968\n",
            "Loss in epoch 2550 is 0.18004408478736877\n",
            "Loss in epoch 2560 is 0.1789756417274475\n",
            "Loss in epoch 2570 is 0.17792537808418274\n",
            "Loss in epoch 2580 is 0.1768709421157837\n",
            "Loss in epoch 2590 is 0.17583543062210083\n",
            "Loss in epoch 2600 is 0.17480918765068054\n",
            "Loss in epoch 2610 is 0.1737917810678482\n",
            "Loss in epoch 2620 is 0.172790065407753\n",
            "Loss in epoch 2630 is 0.17181545495986938\n",
            "Loss in epoch 2640 is 0.17086414992809296\n",
            "Loss in epoch 2650 is 0.16993017494678497\n",
            "Loss in epoch 2660 is 0.1690109819173813\n",
            "Loss in epoch 2670 is 0.16810181736946106\n",
            "Loss in epoch 2680 is 0.16718639433383942\n",
            "Loss in epoch 2690 is 0.16628652811050415\n",
            "Loss in epoch 2700 is 0.16540329158306122\n",
            "Loss in epoch 2710 is 0.1645316332578659\n",
            "Loss in epoch 2720 is 0.1636757254600525\n",
            "Loss in epoch 2730 is 0.16283296048641205\n",
            "Loss in epoch 2740 is 0.1620025634765625\n",
            "Loss in epoch 2750 is 0.1611839085817337\n",
            "Loss in epoch 2760 is 0.160377636551857\n",
            "Loss in epoch 2770 is 0.1595851182937622\n",
            "Loss in epoch 2780 is 0.15880809724330902\n",
            "Loss in epoch 2790 is 0.15804427862167358\n",
            "Loss in epoch 2800 is 0.15729090571403503\n",
            "Loss in epoch 2810 is 0.15655545890331268\n",
            "Loss in epoch 2820 is 0.15582877397537231\n",
            "Loss in epoch 2830 is 0.15510793030261993\n",
            "Loss in epoch 2840 is 0.1543949991464615\n",
            "Loss in epoch 2850 is 0.1536799967288971\n",
            "Loss in epoch 2860 is 0.15297146141529083\n",
            "Loss in epoch 2870 is 0.15226131677627563\n",
            "Loss in epoch 2880 is 0.1515672355890274\n",
            "Loss in epoch 2890 is 0.1508859097957611\n",
            "Loss in epoch 2900 is 0.1502188742160797\n",
            "Loss in epoch 2910 is 0.1495625078678131\n",
            "Loss in epoch 2920 is 0.14890660345554352\n",
            "Loss in epoch 2930 is 0.14823761582374573\n",
            "Loss in epoch 2940 is 0.14758874475955963\n",
            "Loss in epoch 2950 is 0.14695096015930176\n",
            "Loss in epoch 2960 is 0.14632567763328552\n",
            "Loss in epoch 2970 is 0.14570863544940948\n",
            "Loss in epoch 2980 is 0.14510227739810944\n",
            "Loss in epoch 2990 is 0.14450417459011078\n",
            "Loss in epoch 3000 is 0.1439153403043747\n",
            "Loss in epoch 3010 is 0.14333757758140564\n",
            "Loss in epoch 3020 is 0.1427658647298813\n",
            "Loss in epoch 3030 is 0.14219863712787628\n",
            "Loss in epoch 3040 is 0.14164088666439056\n",
            "Loss in epoch 3050 is 0.14109355211257935\n",
            "Loss in epoch 3060 is 0.14055539667606354\n",
            "Loss in epoch 3070 is 0.1400025188922882\n",
            "Loss in epoch 3080 is 0.13945885002613068\n",
            "Loss in epoch 3090 is 0.13892191648483276\n",
            "Loss in epoch 3100 is 0.13839353621006012\n",
            "Loss in epoch 3110 is 0.13787688314914703\n",
            "Loss in epoch 3120 is 0.13736747205257416\n",
            "Loss in epoch 3130 is 0.13686078786849976\n",
            "Loss in epoch 3140 is 0.13636215031147003\n",
            "Loss in epoch 3150 is 0.13586902618408203\n",
            "Loss in epoch 3160 is 0.13538207113742828\n",
            "Loss in epoch 3170 is 0.13490155339241028\n",
            "Loss in epoch 3180 is 0.1344287395477295\n",
            "Loss in epoch 3190 is 0.13395749032497406\n",
            "Loss in epoch 3200 is 0.13348689675331116\n",
            "Loss in epoch 3210 is 0.13302499055862427\n",
            "Loss in epoch 3220 is 0.13257069885730743\n",
            "Loss in epoch 3230 is 0.1321212649345398\n",
            "Loss in epoch 3240 is 0.13167284429073334\n",
            "Loss in epoch 3250 is 0.1312193125486374\n",
            "Loss in epoch 3260 is 0.13076984882354736\n",
            "Loss in epoch 3270 is 0.13032835721969604\n",
            "Loss in epoch 3280 is 0.12988778948783875\n",
            "Loss in epoch 3290 is 0.12945422530174255\n",
            "Loss in epoch 3300 is 0.1290256381034851\n",
            "Loss in epoch 3310 is 0.12860167026519775\n",
            "Loss in epoch 3320 is 0.1281839907169342\n",
            "Loss in epoch 3330 is 0.1277705729007721\n",
            "Loss in epoch 3340 is 0.12736055254936218\n",
            "Loss in epoch 3350 is 0.12695488333702087\n",
            "Loss in epoch 3360 is 0.12655216455459595\n",
            "Loss in epoch 3370 is 0.12615172564983368\n",
            "Loss in epoch 3380 is 0.12575478851795197\n",
            "Loss in epoch 3390 is 0.125361829996109\n",
            "Loss in epoch 3400 is 0.1249716579914093\n",
            "Loss in epoch 3410 is 0.12458579242229462\n",
            "Loss in epoch 3420 is 0.1242055892944336\n",
            "Loss in epoch 3430 is 0.12382474541664124\n",
            "Loss in epoch 3440 is 0.1234515979886055\n",
            "Loss in epoch 3450 is 0.12307965755462646\n",
            "Loss in epoch 3460 is 0.12270946055650711\n",
            "Loss in epoch 3470 is 0.12234462797641754\n",
            "Loss in epoch 3480 is 0.12197915464639664\n",
            "Loss in epoch 3490 is 0.1216115951538086\n",
            "Loss in epoch 3500 is 0.121248759329319\n",
            "Loss in epoch 3510 is 0.12089145928621292\n",
            "Loss in epoch 3520 is 0.12053541094064713\n",
            "Loss in epoch 3530 is 0.12018106132745743\n",
            "Loss in epoch 3540 is 0.11983335763216019\n",
            "Loss in epoch 3550 is 0.11948621273040771\n",
            "Loss in epoch 3560 is 0.11914577335119247\n",
            "Loss in epoch 3570 is 0.1188034787774086\n",
            "Loss in epoch 3580 is 0.11846773326396942\n",
            "Loss in epoch 3590 is 0.11813366413116455\n",
            "Loss in epoch 3600 is 0.11780022084712982\n",
            "Loss in epoch 3610 is 0.11747010797262192\n",
            "Loss in epoch 3620 is 0.11714345216751099\n",
            "Loss in epoch 3630 is 0.11681996285915375\n",
            "Loss in epoch 3640 is 0.116499163210392\n",
            "Loss in epoch 3650 is 0.11618079990148544\n",
            "Loss in epoch 3660 is 0.11586473882198334\n",
            "Loss in epoch 3670 is 0.11555145680904388\n",
            "Loss in epoch 3680 is 0.11524026840925217\n",
            "Loss in epoch 3690 is 0.11493131518363953\n",
            "Loss in epoch 3700 is 0.11462423950433731\n",
            "Loss in epoch 3710 is 0.11431904882192612\n",
            "Loss in epoch 3720 is 0.11401644349098206\n",
            "Loss in epoch 3730 is 0.11371441930532455\n",
            "Loss in epoch 3740 is 0.11341630667448044\n",
            "Loss in epoch 3750 is 0.11311864107847214\n",
            "Loss in epoch 3760 is 0.11282531172037125\n",
            "Loss in epoch 3770 is 0.11253136396408081\n",
            "Loss in epoch 3780 is 0.11224308609962463\n",
            "Loss in epoch 3790 is 0.11195235699415207\n",
            "Loss in epoch 3800 is 0.11166609823703766\n",
            "Loss in epoch 3810 is 0.11138328909873962\n",
            "Loss in epoch 3820 is 0.11110111325979233\n",
            "Loss in epoch 3830 is 0.11081817001104355\n",
            "Loss in epoch 3840 is 0.11053979396820068\n",
            "Loss in epoch 3850 is 0.11026173084974289\n",
            "Loss in epoch 3860 is 0.10998735576868057\n",
            "Loss in epoch 3870 is 0.10971356183290482\n",
            "Loss in epoch 3880 is 0.10943925380706787\n",
            "Loss in epoch 3890 is 0.10916858911514282\n",
            "Loss in epoch 3900 is 0.10890170186758041\n",
            "Loss in epoch 3910 is 0.10863719135522842\n",
            "Loss in epoch 3920 is 0.10837201774120331\n",
            "Loss in epoch 3930 is 0.10811036825180054\n",
            "Loss in epoch 3940 is 0.10785151273012161\n",
            "Loss in epoch 3950 is 0.10759321600198746\n",
            "Loss in epoch 3960 is 0.10733526945114136\n",
            "Loss in epoch 3970 is 0.10707863420248032\n",
            "Loss in epoch 3980 is 0.10682474076747894\n",
            "Loss in epoch 3990 is 0.10656964778900146\n",
            "Loss in epoch 4000 is 0.10631624609231949\n",
            "Loss in epoch 4010 is 0.10606595873832703\n",
            "Loss in epoch 4020 is 0.105814129114151\n",
            "Loss in epoch 4030 is 0.10556352883577347\n",
            "Loss in epoch 4040 is 0.10531563311815262\n",
            "Loss in epoch 4050 is 0.10506629943847656\n",
            "Loss in epoch 4060 is 0.10482051968574524\n",
            "Loss in epoch 4070 is 0.10457661747932434\n",
            "Loss in epoch 4080 is 0.10433288663625717\n",
            "Loss in epoch 4090 is 0.10409136116504669\n",
            "Loss in epoch 4100 is 0.10384762287139893\n",
            "Loss in epoch 4110 is 0.10360663384199142\n",
            "Loss in epoch 4120 is 0.10336793214082718\n",
            "Loss in epoch 4130 is 0.10313137620687485\n",
            "Loss in epoch 4140 is 0.10289671272039413\n",
            "Loss in epoch 4150 is 0.10266175121068954\n",
            "Loss in epoch 4160 is 0.10242873430252075\n",
            "Loss in epoch 4170 is 0.10219720005989075\n",
            "Loss in epoch 4180 is 0.10196676850318909\n",
            "Loss in epoch 4190 is 0.1017373651266098\n",
            "Loss in epoch 4200 is 0.10151372849941254\n",
            "Loss in epoch 4210 is 0.10128746926784515\n",
            "Loss in epoch 4220 is 0.10104010254144669\n",
            "Loss in epoch 4230 is 0.10079523175954819\n",
            "Loss in epoch 4240 is 0.10056011378765106\n",
            "Loss in epoch 4250 is 0.10030731558799744\n",
            "Loss in epoch 4260 is 0.10005824267864227\n",
            "Loss in epoch 4270 is 0.09980826079845428\n",
            "Loss in epoch 4280 is 0.09956351667642593\n",
            "Loss in epoch 4290 is 0.09932425618171692\n",
            "Loss in epoch 4300 is 0.09908398985862732\n",
            "Loss in epoch 4310 is 0.0988432839512825\n",
            "Loss in epoch 4320 is 0.09860790520906448\n",
            "Loss in epoch 4330 is 0.09837840497493744\n",
            "Loss in epoch 4340 is 0.09815055131912231\n",
            "Loss in epoch 4350 is 0.09791983664035797\n",
            "Loss in epoch 4360 is 0.0976971983909607\n",
            "Loss in epoch 4370 is 0.09747029095888138\n",
            "Loss in epoch 4380 is 0.09723526984453201\n",
            "Loss in epoch 4390 is 0.09698926657438278\n",
            "Loss in epoch 4400 is 0.09675124287605286\n",
            "Loss in epoch 4410 is 0.09651686251163483\n",
            "Loss in epoch 4420 is 0.09628842771053314\n",
            "Loss in epoch 4430 is 0.09605976939201355\n",
            "Loss in epoch 4440 is 0.09583140909671783\n",
            "Loss in epoch 4450 is 0.09559523314237595\n",
            "Loss in epoch 4460 is 0.09536318480968475\n",
            "Loss in epoch 4470 is 0.0951363816857338\n",
            "Loss in epoch 4480 is 0.09491102397441864\n",
            "Loss in epoch 4490 is 0.09463246166706085\n",
            "Loss in epoch 4500 is 0.09436099976301193\n",
            "Loss in epoch 4510 is 0.0940965786576271\n",
            "Loss in epoch 4520 is 0.09384015202522278\n",
            "Loss in epoch 4530 is 0.09358378499746323\n",
            "Loss in epoch 4540 is 0.09333816915750504\n",
            "Loss in epoch 4550 is 0.0930945947766304\n",
            "Loss in epoch 4560 is 0.09284992516040802\n",
            "Loss in epoch 4570 is 0.09259981662034988\n",
            "Loss in epoch 4580 is 0.09234990924596786\n",
            "Loss in epoch 4590 is 0.09211286157369614\n",
            "Loss in epoch 4600 is 0.09188300371170044\n",
            "Loss in epoch 4610 is 0.09164948761463165\n",
            "Loss in epoch 4620 is 0.09142479300498962\n",
            "Loss in epoch 4630 is 0.09119908511638641\n",
            "Loss in epoch 4640 is 0.09097431600093842\n",
            "Loss in epoch 4650 is 0.09074845910072327\n",
            "Loss in epoch 4660 is 0.09052880108356476\n",
            "Loss in epoch 4670 is 0.09030842781066895\n",
            "Loss in epoch 4680 is 0.09009258449077606\n",
            "Loss in epoch 4690 is 0.08987785875797272\n",
            "Loss in epoch 4700 is 0.08966795355081558\n",
            "Loss in epoch 4710 is 0.08945723623037338\n",
            "Loss in epoch 4720 is 0.08924589306116104\n",
            "Loss in epoch 4730 is 0.08903546631336212\n",
            "Loss in epoch 4740 is 0.08882709592580795\n",
            "Loss in epoch 4750 is 0.08862510323524475\n",
            "Loss in epoch 4760 is 0.08841598778963089\n",
            "Loss in epoch 4770 is 0.08821380138397217\n",
            "Loss in epoch 4780 is 0.08801688253879547\n",
            "Loss in epoch 4790 is 0.0878128856420517\n",
            "Loss in epoch 4800 is 0.08761785179376602\n",
            "Loss in epoch 4810 is 0.0874156728386879\n",
            "Loss in epoch 4820 is 0.08722048252820969\n",
            "Loss in epoch 4830 is 0.08702933043241501\n",
            "Loss in epoch 4840 is 0.08683079481124878\n",
            "Loss in epoch 4850 is 0.08664458245038986\n",
            "Loss in epoch 4860 is 0.08643937855958939\n",
            "Loss in epoch 4870 is 0.08624245226383209\n",
            "Loss in epoch 4880 is 0.08604472875595093\n",
            "Loss in epoch 4890 is 0.08585763722658157\n",
            "Loss in epoch 4900 is 0.08566543459892273\n",
            "Loss in epoch 4910 is 0.08547051250934601\n",
            "Loss in epoch 4920 is 0.08528271317481995\n",
            "Loss in epoch 4930 is 0.0850953534245491\n",
            "Loss in epoch 4940 is 0.08491096645593643\n",
            "Loss in epoch 4950 is 0.08472727239131927\n",
            "Loss in epoch 4960 is 0.08454686403274536\n",
            "Loss in epoch 4970 is 0.0843636766076088\n",
            "Loss in epoch 4980 is 0.08418388664722443\n",
            "Loss in epoch 4990 is 0.08400915563106537\n",
            "Done training \n"
          ],
          "name": "stdout"
        }
      ]
    },
    {
      "cell_type": "code",
      "metadata": {
        "colab": {
          "base_uri": "https://localhost:8080/",
          "height": 296
        },
        "id": "fMPxG1i873W7",
        "outputId": "8ed83937-f40a-4e0e-a259-e409fff8fc9e"
      },
      "source": [
        "  fig = plt.figure()\n",
        "  plt.plot(range(0, no_epochs), train_losses, color='blue')\n",
        "  plt.legend(['Train Loss'], loc='upper right')\n",
        "  plt.xlabel('number of epochs')\n",
        "  plt.ylabel('loss')"
      ],
      "execution_count": 9,
      "outputs": [
        {
          "output_type": "execute_result",
          "data": {
            "text/plain": [
              "Text(0, 0.5, 'loss')"
            ]
          },
          "metadata": {
            "tags": []
          },
          "execution_count": 9
        },
        {
          "output_type": "display_data",
          "data": {
            "image/png": "[encoded data removed]",
            "text/plain": [
              "<Figure size 432x288 with 1 Axes>"
            ]
          },
          "metadata": {
            "tags": [],
            "needs_background": "light"
          }
        }
      ]
    },
    {
      "cell_type": "markdown",
      "metadata": {
        "id": "cN8btFSP3yU2"
      },
      "source": [
        "### 4. Model Evaluation"
      ]
    },
    {
      "cell_type": "code",
      "metadata": {
        "colab": {
          "base_uri": "https://localhost:8080/"
        },
        "id": "wsmVfo49Kytp",
        "outputId": "73bdda50-20d6-41e3-bb45-ce40c114f6fc"
      },
      "source": [
        "net.eval() # set network to evaluation mode\n",
        "y_pred = net(test_x)\n",
        "_, predicted = torch.max(y_pred.data, 1)\n",
        "correct = (predicted == test_y).sum().item()\n",
        "print(f\"Accuarcy is {100. * correct / len(test_x)}%\")"
      ],
      "execution_count": 10,
      "outputs": [
        {
          "output_type": "stream",
          "text": [
            "Accuarcy is 90.83333333333333%\n"
          ],
          "name": "stdout"
        }
      ]
    },
    {
      "cell_type": "code",
      "metadata": {
        "id": "sB9CFaSTWsNG"
      },
      "source": [
        ""
      ],
      "execution_count": 10,
      "outputs": []
    }
  ]
}